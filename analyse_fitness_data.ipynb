{
  "cells": [
    {
      "cell_type": "code",
      "execution_count": null,
      "metadata": {
        "colab": {
          "base_uri": "https://localhost:8080/"
        },
        "id": "Kgh3ZfGUA6OP",
        "outputId": "96b404e9-3f31-4dc5-aa01-7898ee37ed73"
      },
      "outputs": [
        {
          "output_type": "stream",
          "name": "stdout",
          "text": [
            "Drive already mounted at /content/drive; to attempt to forcibly remount, call drive.mount(\"/content/drive\", force_remount=True).\n"
          ]
        }
      ],
      "source": [
        "from google.colab import drive # for mounting Google Drive\n",
        "drive.mount('/content/drive')"
      ]
    },
    {
      "cell_type": "code",
      "execution_count": null,
      "metadata": {
        "colab": {
          "base_uri": "https://localhost:8080/"
        },
        "id": "8KiZ8C2PBEEE",
        "outputId": "ffe99fa2-8f74-41e3-ecaa-6de6666b5aff"
      },
      "outputs": [
        {
          "output_type": "stream",
          "name": "stdout",
          "text": [
            "Looking in indexes: https://pypi.org/simple, https://us-python.pkg.dev/colab-wheels/public/simple/\n",
            "Requirement already satisfied: pandas in /usr/local/lib/python3.9/dist-packages (1.5.3)\n",
            "Requirement already satisfied: python-dateutil>=2.8.1 in /usr/local/lib/python3.9/dist-packages (from pandas) (2.8.2)\n",
            "Requirement already satisfied: numpy>=1.20.3 in /usr/local/lib/python3.9/dist-packages (from pandas) (1.22.4)\n",
            "Requirement already satisfied: pytz>=2020.1 in /usr/local/lib/python3.9/dist-packages (from pandas) (2022.7.1)\n",
            "Requirement already satisfied: six>=1.5 in /usr/local/lib/python3.9/dist-packages (from python-dateutil>=2.8.1->pandas) (1.16.0)\n"
          ]
        }
      ],
      "source": [
        "!pip install pandas"
      ]
    },
    {
      "cell_type": "markdown",
      "source": [
        "**Task1**"
      ],
      "metadata": {
        "id": "CCMM0K_T4zgp"
      }
    },
    {
      "cell_type": "markdown",
      "source": [
        "Load pandas and the training activities data."
      ],
      "metadata": {
        "id": "fkvqzT054_34"
      }
    },
    {
      "cell_type": "code",
      "execution_count": null,
      "metadata": {
        "id": "fDeeOI8-BJ2y"
      },
      "outputs": [],
      "source": [
        "import pandas as pd"
      ]
    },
    {
      "cell_type": "code",
      "execution_count": null,
      "metadata": {
        "colab": {
          "base_uri": "https://localhost:8080/",
          "height": 225
        },
        "id": "hPCKT_nIBQTw",
        "outputId": "8800a5eb-620f-4c1d-aef2-aa95837bed1c"
      },
      "outputs": [
        {
          "output_type": "execute_result",
          "data": {
            "text/plain": [
              "                                              Activity Id     Type Route Name  \\\n",
              "Date                                                                            \n",
              "2018-11-11 14:05:12  c9627fed-14ac-47a2-bed3-2a2630c63c15  Running        NaN   \n",
              "\n",
              "                     Distance (km) Duration Average Pace  \\\n",
              "Date                                                       \n",
              "2018-11-11 14:05:12          10.44    58:40         5:37   \n",
              "\n",
              "                     Average Speed (km/h)  Calories Burned  Climb (m)  \\\n",
              "Date                                                                    \n",
              "2018-11-11 14:05:12                 10.68            774.0        130   \n",
              "\n",
              "                     Average Heart Rate (bpm)  Friend's Tagged Notes  \\\n",
              "Date                                                                   \n",
              "2018-11-11 14:05:12                     159.0              NaN   NaN   \n",
              "\n",
              "                                  GPX File  \n",
              "Date                                        \n",
              "2018-11-11 14:05:12  2018-11-11-140512.gpx  "
            ],
            "text/html": [
              "\n",
              "  <div id=\"df-4135c881-f572-4a2d-b0d2-8155e100d606\">\n",
              "    <div class=\"colab-df-container\">\n",
              "      <div>\n",
              "<style scoped>\n",
              "    .dataframe tbody tr th:only-of-type {\n",
              "        vertical-align: middle;\n",
              "    }\n",
              "\n",
              "    .dataframe tbody tr th {\n",
              "        vertical-align: top;\n",
              "    }\n",
              "\n",
              "    .dataframe thead th {\n",
              "        text-align: right;\n",
              "    }\n",
              "</style>\n",
              "<table border=\"1\" class=\"dataframe\">\n",
              "  <thead>\n",
              "    <tr style=\"text-align: right;\">\n",
              "      <th></th>\n",
              "      <th>Activity Id</th>\n",
              "      <th>Type</th>\n",
              "      <th>Route Name</th>\n",
              "      <th>Distance (km)</th>\n",
              "      <th>Duration</th>\n",
              "      <th>Average Pace</th>\n",
              "      <th>Average Speed (km/h)</th>\n",
              "      <th>Calories Burned</th>\n",
              "      <th>Climb (m)</th>\n",
              "      <th>Average Heart Rate (bpm)</th>\n",
              "      <th>Friend's Tagged</th>\n",
              "      <th>Notes</th>\n",
              "      <th>GPX File</th>\n",
              "    </tr>\n",
              "    <tr>\n",
              "      <th>Date</th>\n",
              "      <th></th>\n",
              "      <th></th>\n",
              "      <th></th>\n",
              "      <th></th>\n",
              "      <th></th>\n",
              "      <th></th>\n",
              "      <th></th>\n",
              "      <th></th>\n",
              "      <th></th>\n",
              "      <th></th>\n",
              "      <th></th>\n",
              "      <th></th>\n",
              "      <th></th>\n",
              "    </tr>\n",
              "  </thead>\n",
              "  <tbody>\n",
              "    <tr>\n",
              "      <th>2018-11-11 14:05:12</th>\n",
              "      <td>c9627fed-14ac-47a2-bed3-2a2630c63c15</td>\n",
              "      <td>Running</td>\n",
              "      <td>NaN</td>\n",
              "      <td>10.44</td>\n",
              "      <td>58:40</td>\n",
              "      <td>5:37</td>\n",
              "      <td>10.68</td>\n",
              "      <td>774.0</td>\n",
              "      <td>130</td>\n",
              "      <td>159.0</td>\n",
              "      <td>NaN</td>\n",
              "      <td>NaN</td>\n",
              "      <td>2018-11-11-140512.gpx</td>\n",
              "    </tr>\n",
              "  </tbody>\n",
              "</table>\n",
              "</div>\n",
              "      <button class=\"colab-df-convert\" onclick=\"convertToInteractive('df-4135c881-f572-4a2d-b0d2-8155e100d606')\"\n",
              "              title=\"Convert this dataframe to an interactive table.\"\n",
              "              style=\"display:none;\">\n",
              "        \n",
              "  <svg xmlns=\"http://www.w3.org/2000/svg\" height=\"24px\"viewBox=\"0 0 24 24\"\n",
              "       width=\"24px\">\n",
              "    <path d=\"M0 0h24v24H0V0z\" fill=\"none\"/>\n",
              "    <path d=\"M18.56 5.44l.94 2.06.94-2.06 2.06-.94-2.06-.94-.94-2.06-.94 2.06-2.06.94zm-11 1L8.5 8.5l.94-2.06 2.06-.94-2.06-.94L8.5 2.5l-.94 2.06-2.06.94zm10 10l.94 2.06.94-2.06 2.06-.94-2.06-.94-.94-2.06-.94 2.06-2.06.94z\"/><path d=\"M17.41 7.96l-1.37-1.37c-.4-.4-.92-.59-1.43-.59-.52 0-1.04.2-1.43.59L10.3 9.45l-7.72 7.72c-.78.78-.78 2.05 0 2.83L4 21.41c.39.39.9.59 1.41.59.51 0 1.02-.2 1.41-.59l7.78-7.78 2.81-2.81c.8-.78.8-2.07 0-2.86zM5.41 20L4 18.59l7.72-7.72 1.47 1.35L5.41 20z\"/>\n",
              "  </svg>\n",
              "      </button>\n",
              "      \n",
              "  <style>\n",
              "    .colab-df-container {\n",
              "      display:flex;\n",
              "      flex-wrap:wrap;\n",
              "      gap: 12px;\n",
              "    }\n",
              "\n",
              "    .colab-df-convert {\n",
              "      background-color: #E8F0FE;\n",
              "      border: none;\n",
              "      border-radius: 50%;\n",
              "      cursor: pointer;\n",
              "      display: none;\n",
              "      fill: #1967D2;\n",
              "      height: 32px;\n",
              "      padding: 0 0 0 0;\n",
              "      width: 32px;\n",
              "    }\n",
              "\n",
              "    .colab-df-convert:hover {\n",
              "      background-color: #E2EBFA;\n",
              "      box-shadow: 0px 1px 2px rgba(60, 64, 67, 0.3), 0px 1px 3px 1px rgba(60, 64, 67, 0.15);\n",
              "      fill: #174EA6;\n",
              "    }\n",
              "\n",
              "    [theme=dark] .colab-df-convert {\n",
              "      background-color: #3B4455;\n",
              "      fill: #D2E3FC;\n",
              "    }\n",
              "\n",
              "    [theme=dark] .colab-df-convert:hover {\n",
              "      background-color: #434B5C;\n",
              "      box-shadow: 0px 1px 3px 1px rgba(0, 0, 0, 0.15);\n",
              "      filter: drop-shadow(0px 1px 2px rgba(0, 0, 0, 0.3));\n",
              "      fill: #FFFFFF;\n",
              "    }\n",
              "  </style>\n",
              "\n",
              "      <script>\n",
              "        const buttonEl =\n",
              "          document.querySelector('#df-4135c881-f572-4a2d-b0d2-8155e100d606 button.colab-df-convert');\n",
              "        buttonEl.style.display =\n",
              "          google.colab.kernel.accessAllowed ? 'block' : 'none';\n",
              "\n",
              "        async function convertToInteractive(key) {\n",
              "          const element = document.querySelector('#df-4135c881-f572-4a2d-b0d2-8155e100d606');\n",
              "          const dataTable =\n",
              "            await google.colab.kernel.invokeFunction('convertToInteractive',\n",
              "                                                     [key], {});\n",
              "          if (!dataTable) return;\n",
              "\n",
              "          const docLinkHtml = 'Like what you see? Visit the ' +\n",
              "            '<a target=\"_blank\" href=https://colab.research.google.com/notebooks/data_table.ipynb>data table notebook</a>'\n",
              "            + ' to learn more about interactive tables.';\n",
              "          element.innerHTML = '';\n",
              "          dataTable['output_type'] = 'display_data';\n",
              "          await google.colab.output.renderOutput(dataTable, element);\n",
              "          const docLink = document.createElement('div');\n",
              "          docLink.innerHTML = docLinkHtml;\n",
              "          element.appendChild(docLink);\n",
              "        }\n",
              "      </script>\n",
              "    </div>\n",
              "  </div>\n",
              "  "
            ]
          },
          "metadata": {},
          "execution_count": 4
        }
      ],
      "source": [
        "#Use the read_csv() function to load the dataset (runkeeper_file) into a variablecalled df_activities.\n",
        "#Parse the dates with the parse_dates parameter and set the indexto the Date column using the index_col parameter.\n",
        "\n",
        "#Reading File \n",
        "df_activities= pd.read_csv('/content/drive/MyDrive/Untitled folder/cardioActivities.csv',parse_dates=True,index_col='Date')\n",
        "df_activities.head(1)"
      ]
    },
    {
      "cell_type": "code",
      "execution_count": null,
      "metadata": {
        "id": "hKoWQCj1DnLK",
        "colab": {
          "base_uri": "https://localhost:8080/",
          "height": 375
        },
        "outputId": "988250f9-439c-4cb5-cd66-9fea1c30d712"
      },
      "outputs": [
        {
          "output_type": "display_data",
          "data": {
            "text/plain": [
              "                                              Activity Id     Type Route Name  \\\n",
              "Date                                                                            \n",
              "2012-09-15 08:05:15  94a6d776-4746-4fab-9923-e8d443888e9c  Running        NaN   \n",
              "2014-02-15 08:55:15  9d8d9396-b49a-439d-a31d-c300bcd7b621  Running        NaN   \n",
              "2018-03-21 18:57:05  98b6e3aa-d64a-4aa1-96e2-4b27cc428ba9  Running        NaN   \n",
              "\n",
              "                     Distance (km) Duration Average Pace  \\\n",
              "Date                                                       \n",
              "2012-09-15 08:05:15           3.11    16:58         5:28   \n",
              "2014-02-15 08:55:15           6.29    34:34         5:30   \n",
              "2018-03-21 18:57:05           6.40    37:41         5:53   \n",
              "\n",
              "                     Average Speed (km/h)  Calories Burned  Climb (m)  \\\n",
              "Date                                                                    \n",
              "2012-09-15 08:05:15                 10.98            223.0         18   \n",
              "2014-02-15 08:55:15                 10.91            449.0         35   \n",
              "2018-03-21 18:57:05                 10.19            458.0        116   \n",
              "\n",
              "                     Average Heart Rate (bpm)  Friend's Tagged  \\\n",
              "Date                                                             \n",
              "2012-09-15 08:05:15                       NaN              NaN   \n",
              "2014-02-15 08:55:15                       NaN              NaN   \n",
              "2018-03-21 18:57:05                     137.0              NaN   \n",
              "\n",
              "                                     Notes               GPX File  \n",
              "Date                                                               \n",
              "2012-09-15 08:05:15                    NaN  2012-09-15-080515.gpx  \n",
              "2014-02-15 08:55:15                    NaN  2014-02-15-085515.gpx  \n",
              "2018-03-21 18:57:05  TomTom MySports Watch  2018-03-21-185705.gpx  "
            ],
            "text/html": [
              "\n",
              "  <div id=\"df-7eb16b8d-d916-480f-8b72-d657e201d69f\">\n",
              "    <div class=\"colab-df-container\">\n",
              "      <div>\n",
              "<style scoped>\n",
              "    .dataframe tbody tr th:only-of-type {\n",
              "        vertical-align: middle;\n",
              "    }\n",
              "\n",
              "    .dataframe tbody tr th {\n",
              "        vertical-align: top;\n",
              "    }\n",
              "\n",
              "    .dataframe thead th {\n",
              "        text-align: right;\n",
              "    }\n",
              "</style>\n",
              "<table border=\"1\" class=\"dataframe\">\n",
              "  <thead>\n",
              "    <tr style=\"text-align: right;\">\n",
              "      <th></th>\n",
              "      <th>Activity Id</th>\n",
              "      <th>Type</th>\n",
              "      <th>Route Name</th>\n",
              "      <th>Distance (km)</th>\n",
              "      <th>Duration</th>\n",
              "      <th>Average Pace</th>\n",
              "      <th>Average Speed (km/h)</th>\n",
              "      <th>Calories Burned</th>\n",
              "      <th>Climb (m)</th>\n",
              "      <th>Average Heart Rate (bpm)</th>\n",
              "      <th>Friend's Tagged</th>\n",
              "      <th>Notes</th>\n",
              "      <th>GPX File</th>\n",
              "    </tr>\n",
              "    <tr>\n",
              "      <th>Date</th>\n",
              "      <th></th>\n",
              "      <th></th>\n",
              "      <th></th>\n",
              "      <th></th>\n",
              "      <th></th>\n",
              "      <th></th>\n",
              "      <th></th>\n",
              "      <th></th>\n",
              "      <th></th>\n",
              "      <th></th>\n",
              "      <th></th>\n",
              "      <th></th>\n",
              "      <th></th>\n",
              "    </tr>\n",
              "  </thead>\n",
              "  <tbody>\n",
              "    <tr>\n",
              "      <th>2012-09-15 08:05:15</th>\n",
              "      <td>94a6d776-4746-4fab-9923-e8d443888e9c</td>\n",
              "      <td>Running</td>\n",
              "      <td>NaN</td>\n",
              "      <td>3.11</td>\n",
              "      <td>16:58</td>\n",
              "      <td>5:28</td>\n",
              "      <td>10.98</td>\n",
              "      <td>223.0</td>\n",
              "      <td>18</td>\n",
              "      <td>NaN</td>\n",
              "      <td>NaN</td>\n",
              "      <td>NaN</td>\n",
              "      <td>2012-09-15-080515.gpx</td>\n",
              "    </tr>\n",
              "    <tr>\n",
              "      <th>2014-02-15 08:55:15</th>\n",
              "      <td>9d8d9396-b49a-439d-a31d-c300bcd7b621</td>\n",
              "      <td>Running</td>\n",
              "      <td>NaN</td>\n",
              "      <td>6.29</td>\n",
              "      <td>34:34</td>\n",
              "      <td>5:30</td>\n",
              "      <td>10.91</td>\n",
              "      <td>449.0</td>\n",
              "      <td>35</td>\n",
              "      <td>NaN</td>\n",
              "      <td>NaN</td>\n",
              "      <td>NaN</td>\n",
              "      <td>2014-02-15-085515.gpx</td>\n",
              "    </tr>\n",
              "    <tr>\n",
              "      <th>2018-03-21 18:57:05</th>\n",
              "      <td>98b6e3aa-d64a-4aa1-96e2-4b27cc428ba9</td>\n",
              "      <td>Running</td>\n",
              "      <td>NaN</td>\n",
              "      <td>6.40</td>\n",
              "      <td>37:41</td>\n",
              "      <td>5:53</td>\n",
              "      <td>10.19</td>\n",
              "      <td>458.0</td>\n",
              "      <td>116</td>\n",
              "      <td>137.0</td>\n",
              "      <td>NaN</td>\n",
              "      <td>TomTom MySports Watch</td>\n",
              "      <td>2018-03-21-185705.gpx</td>\n",
              "    </tr>\n",
              "  </tbody>\n",
              "</table>\n",
              "</div>\n",
              "      <button class=\"colab-df-convert\" onclick=\"convertToInteractive('df-7eb16b8d-d916-480f-8b72-d657e201d69f')\"\n",
              "              title=\"Convert this dataframe to an interactive table.\"\n",
              "              style=\"display:none;\">\n",
              "        \n",
              "  <svg xmlns=\"http://www.w3.org/2000/svg\" height=\"24px\"viewBox=\"0 0 24 24\"\n",
              "       width=\"24px\">\n",
              "    <path d=\"M0 0h24v24H0V0z\" fill=\"none\"/>\n",
              "    <path d=\"M18.56 5.44l.94 2.06.94-2.06 2.06-.94-2.06-.94-.94-2.06-.94 2.06-2.06.94zm-11 1L8.5 8.5l.94-2.06 2.06-.94-2.06-.94L8.5 2.5l-.94 2.06-2.06.94zm10 10l.94 2.06.94-2.06 2.06-.94-2.06-.94-.94-2.06-.94 2.06-2.06.94z\"/><path d=\"M17.41 7.96l-1.37-1.37c-.4-.4-.92-.59-1.43-.59-.52 0-1.04.2-1.43.59L10.3 9.45l-7.72 7.72c-.78.78-.78 2.05 0 2.83L4 21.41c.39.39.9.59 1.41.59.51 0 1.02-.2 1.41-.59l7.78-7.78 2.81-2.81c.8-.78.8-2.07 0-2.86zM5.41 20L4 18.59l7.72-7.72 1.47 1.35L5.41 20z\"/>\n",
              "  </svg>\n",
              "      </button>\n",
              "      \n",
              "  <style>\n",
              "    .colab-df-container {\n",
              "      display:flex;\n",
              "      flex-wrap:wrap;\n",
              "      gap: 12px;\n",
              "    }\n",
              "\n",
              "    .colab-df-convert {\n",
              "      background-color: #E8F0FE;\n",
              "      border: none;\n",
              "      border-radius: 50%;\n",
              "      cursor: pointer;\n",
              "      display: none;\n",
              "      fill: #1967D2;\n",
              "      height: 32px;\n",
              "      padding: 0 0 0 0;\n",
              "      width: 32px;\n",
              "    }\n",
              "\n",
              "    .colab-df-convert:hover {\n",
              "      background-color: #E2EBFA;\n",
              "      box-shadow: 0px 1px 2px rgba(60, 64, 67, 0.3), 0px 1px 3px 1px rgba(60, 64, 67, 0.15);\n",
              "      fill: #174EA6;\n",
              "    }\n",
              "\n",
              "    [theme=dark] .colab-df-convert {\n",
              "      background-color: #3B4455;\n",
              "      fill: #D2E3FC;\n",
              "    }\n",
              "\n",
              "    [theme=dark] .colab-df-convert:hover {\n",
              "      background-color: #434B5C;\n",
              "      box-shadow: 0px 1px 3px 1px rgba(0, 0, 0, 0.15);\n",
              "      filter: drop-shadow(0px 1px 2px rgba(0, 0, 0, 0.3));\n",
              "      fill: #FFFFFF;\n",
              "    }\n",
              "  </style>\n",
              "\n",
              "      <script>\n",
              "        const buttonEl =\n",
              "          document.querySelector('#df-7eb16b8d-d916-480f-8b72-d657e201d69f button.colab-df-convert');\n",
              "        buttonEl.style.display =\n",
              "          google.colab.kernel.accessAllowed ? 'block' : 'none';\n",
              "\n",
              "        async function convertToInteractive(key) {\n",
              "          const element = document.querySelector('#df-7eb16b8d-d916-480f-8b72-d657e201d69f');\n",
              "          const dataTable =\n",
              "            await google.colab.kernel.invokeFunction('convertToInteractive',\n",
              "                                                     [key], {});\n",
              "          if (!dataTable) return;\n",
              "\n",
              "          const docLinkHtml = 'Like what you see? Visit the ' +\n",
              "            '<a target=\"_blank\" href=https://colab.research.google.com/notebooks/data_table.ipynb>data table notebook</a>'\n",
              "            + ' to learn more about interactive tables.';\n",
              "          element.innerHTML = '';\n",
              "          dataTable['output_type'] = 'display_data';\n",
              "          await google.colab.output.renderOutput(dataTable, element);\n",
              "          const docLink = document.createElement('div');\n",
              "          docLink.innerHTML = docLinkHtml;\n",
              "          element.appendChild(docLink);\n",
              "        }\n",
              "      </script>\n",
              "    </div>\n",
              "  </div>\n",
              "  "
            ]
          },
          "metadata": {}
        }
      ],
      "source": [
        "#Display 3 random rows from df_activities using the sample() method\n",
        "\n",
        "display(df_activities.sample(3))"
      ]
    },
    {
      "cell_type": "code",
      "source": [
        "#Print a summary of df_activities using the info() method\n",
        "\n",
        "df_activities.info()"
      ],
      "metadata": {
        "colab": {
          "base_uri": "https://localhost:8080/"
        },
        "id": "U-YAK5-KEl8E",
        "outputId": "52a085a3-44d0-4c27-bf2f-888f2a51d031"
      },
      "execution_count": null,
      "outputs": [
        {
          "output_type": "stream",
          "name": "stdout",
          "text": [
            "<class 'pandas.core.frame.DataFrame'>\n",
            "DatetimeIndex: 508 entries, 2018-11-11 14:05:12 to 2012-08-22 18:53:54\n",
            "Data columns (total 13 columns):\n",
            " #   Column                    Non-Null Count  Dtype  \n",
            "---  ------                    --------------  -----  \n",
            " 0   Activity Id               508 non-null    object \n",
            " 1   Type                      508 non-null    object \n",
            " 2   Route Name                1 non-null      object \n",
            " 3   Distance (km)             508 non-null    float64\n",
            " 4   Duration                  508 non-null    object \n",
            " 5   Average Pace              508 non-null    object \n",
            " 6   Average Speed (km/h)      508 non-null    float64\n",
            " 7   Calories Burned           508 non-null    float64\n",
            " 8   Climb (m)                 508 non-null    int64  \n",
            " 9   Average Heart Rate (bpm)  294 non-null    float64\n",
            " 10  Friend's Tagged           0 non-null      float64\n",
            " 11  Notes                     231 non-null    object \n",
            " 12  GPX File                  504 non-null    object \n",
            "dtypes: float64(5), int64(1), object(7)\n",
            "memory usage: 55.6+ KB\n"
          ]
        }
      ]
    },
    {
      "cell_type": "markdown",
      "source": [
        "**Task2**"
      ],
      "metadata": {
        "id": "MT7IwlBwEuOx"
      }
    },
    {
      "cell_type": "markdown",
      "source": [
        "Implement the following data preprocessing tasks"
      ],
      "metadata": {
        "id": "ZPviJCBlE32o"
      }
    },
    {
      "cell_type": "code",
      "source": [
        "#Delete unnecessary columns from df_activities with the drop() method, settingthe columns parameter to the cols_to_drop list.\n",
        "\n",
        "cols_to_drop = [\"Friend's Tagged\",\"Route Name\",\"GPX File\",\"Activity Id\",\"Calories Burned\",\"Notes\"]\n",
        "df_activities.drop(cols_to_drop,axis=1, inplace=True)\n",
        "df_activities.columns"
      ],
      "metadata": {
        "colab": {
          "base_uri": "https://localhost:8080/"
        },
        "id": "4AfVWS1TE9mz",
        "outputId": "d3116a64-616a-46c6-8ebc-7002c86f6505"
      },
      "execution_count": null,
      "outputs": [
        {
          "output_type": "execute_result",
          "data": {
            "text/plain": [
              "Index(['Type', 'Distance (km)', 'Duration', 'Average Pace',\n",
              "       'Average Speed (km/h)', 'Climb (m)', 'Average Heart Rate (bpm)'],\n",
              "      dtype='object')"
            ]
          },
          "metadata": {},
          "execution_count": 7
        }
      ]
    },
    {
      "cell_type": "code",
      "source": [
        "#Calculate the activity type counts using the value_counts() method on the Type column.\n",
        "\n",
        "df_activities['Type'].value_counts()"
      ],
      "metadata": {
        "colab": {
          "base_uri": "https://localhost:8080/"
        },
        "id": "QZTNPj5FH74V",
        "outputId": "66c3aed1-9be5-4a84-cada-cddd4bec05c3"
      },
      "execution_count": null,
      "outputs": [
        {
          "output_type": "execute_result",
          "data": {
            "text/plain": [
              "Running    459\n",
              "Cycling     29\n",
              "Walking     18\n",
              "Other        2\n",
              "Name: Type, dtype: int64"
            ]
          },
          "metadata": {},
          "execution_count": 8
        }
      ]
    },
    {
      "cell_type": "code",
      "source": [
        "#Rename the 'Other' values to 'Unicycling' in the Type column using str.replace().\n",
        "\n",
        "df_activities[\"Type\"]=df_activities[\"Type\"].str.replace(\"Other\",\"Unicycling\")\n",
        "df_activities['Type'].value_counts()"
      ],
      "metadata": {
        "colab": {
          "base_uri": "https://localhost:8080/"
        },
        "id": "PkuDxqrmIjf6",
        "outputId": "2bc71198-8f38-43d5-a460-104eb77b84ba"
      },
      "execution_count": null,
      "outputs": [
        {
          "output_type": "execute_result",
          "data": {
            "text/plain": [
              "Running       459\n",
              "Cycling        29\n",
              "Walking        18\n",
              "Unicycling      2\n",
              "Name: Type, dtype: int64"
            ]
          },
          "metadata": {},
          "execution_count": 9
        }
      ]
    },
    {
      "cell_type": "code",
      "source": [
        "#Count the missing values in each column using isnull().sum()\n",
        "\n",
        "df_activities.isnull().sum()"
      ],
      "metadata": {
        "colab": {
          "base_uri": "https://localhost:8080/"
        },
        "id": "ZqcmyO8XKcyn",
        "outputId": "ba73027a-47ea-4283-ddbc-f9873224441b"
      },
      "execution_count": null,
      "outputs": [
        {
          "output_type": "execute_result",
          "data": {
            "text/plain": [
              "Type                          0\n",
              "Distance (km)                 0\n",
              "Duration                      0\n",
              "Average Pace                  0\n",
              "Average Speed (km/h)          0\n",
              "Climb (m)                     0\n",
              "Average Heart Rate (bpm)    214\n",
              "dtype: int64"
            ]
          },
          "metadata": {},
          "execution_count": 10
        }
      ]
    },
    {
      "cell_type": "markdown",
      "source": [
        "**Task3**"
      ],
      "metadata": {
        "id": "KpR1p-2xKIgL"
      }
    },
    {
      "cell_type": "markdown",
      "source": [
        "Implement mean imputation for missing values."
      ],
      "metadata": {
        "id": "hOIZHXMQKxqx"
      }
    },
    {
      "cell_type": "code",
      "source": [
        "#Calculate the sample mean for Average Heart Rate (bpm) for the 'Cycling' activity type.Assign the result to avg_hr_cycle.\n",
        "\n",
        "avg_hr_cycle = df_activities[df_activities['Type'] == 'Cycling']['Average Heart Rate (bpm)'].mean()\n",
        "print(avg_hr_cycle)"
      ],
      "metadata": {
        "colab": {
          "base_uri": "https://localhost:8080/"
        },
        "id": "Xdr_lxFqK3NY",
        "outputId": "45cf60e9-717a-4af0-d789-934b74331941"
      },
      "execution_count": null,
      "outputs": [
        {
          "output_type": "stream",
          "name": "stdout",
          "text": [
            "124.4\n"
          ]
        }
      ]
    },
    {
      "cell_type": "code",
      "source": [
        "#Filter the df_activities for the 'Cycling' activity type. Create a copy of the resultusing copy() and assign the copy to df_cycle\n",
        "\n",
        "df_cycle=df_activities[df_activities['Type'] == 'Cycling'].copy()\n",
        "print(df_cycle)"
      ],
      "metadata": {
        "colab": {
          "base_uri": "https://localhost:8080/"
        },
        "id": "1yrOGy2eMB6_",
        "outputId": "fc81d56e-46df-4d17-872f-1d6fedeaaed2"
      },
      "execution_count": null,
      "outputs": [
        {
          "output_type": "stream",
          "name": "stdout",
          "text": [
            "                        Type  Distance (km) Duration Average Pace  \\\n",
            "Date                                                                \n",
            "2018-10-06 16:45:02  Cycling          19.63  1:26:26         4:24   \n",
            "2018-09-16 14:55:03  Cycling          32.61  1:55:15         3:32   \n",
            "2018-09-01 17:06:15  Cycling          36.89  1:58:39         3:13   \n",
            "2018-08-28 18:44:33  Cycling          28.17  1:27:07         3:06   \n",
            "2018-08-25 17:18:32  Cycling          19.41  1:11:33         3:41   \n",
            "2017-09-22 12:27:14  Cycling          49.18  2:42:32         3:18   \n",
            "2017-08-17 18:36:00  Cycling          15.53    40:04         2:35   \n",
            "2017-05-01 17:38:35  Cycling          20.19    54:29         2:42   \n",
            "2016-10-03 11:47:16  Cycling          23.62  1:12:42         3:05   \n",
            "2016-09-10 17:13:51  Cycling          13.11    32:47         2:30   \n",
            "2016-09-04 17:08:28  Cycling          13.64    40:43         2:59   \n",
            "2016-08-27 17:08:38  Cycling          24.67  1:08:53         2:48   \n",
            "2016-08-20 15:43:49  Cycling          31.48  1:29:50         2:51   \n",
            "2016-08-17 17:17:09  Cycling          21.82  1:22:34         3:47   \n",
            "2016-05-22 15:31:06  Cycling          39.62  1:48:59         2:45   \n",
            "2015-10-18 15:43:06  Cycling          16.67  1:08:46         4:08   \n",
            "2015-08-23 17:35:47  Cycling          35.09  1:32:58         2:39   \n",
            "2015-08-15 18:46:21  Cycling          13.72    38:39         2:49   \n",
            "2015-08-01 18:40:14  Cycling          18.79    56:41         3:01   \n",
            "2015-06-21 17:53:46  Cycling          34.49  1:35:39         2:46   \n",
            "2015-06-14 17:03:23  Cycling          28.49  1:20:47         2:50   \n",
            "2015-06-06 18:30:39  Cycling          18.96  1:19:02         4:10   \n",
            "2015-05-31 04:02:00  Cycling          29.40  2:35:00         5:16   \n",
            "2015-05-23 19:07:40  Cycling          13.65    43:06         3:09   \n",
            "2015-05-01 18:05:38  Cycling          11.41    42:39         3:44   \n",
            "2014-08-29 18:56:02  Cycling          20.70  1:00:37         2:56   \n",
            "2013-05-09 17:24:19  Cycling          15.47    38:08         2:28   \n",
            "2013-05-05 14:26:37  Cycling          20.30  1:06:29         3:17   \n",
            "2013-04-28 17:26:52  Cycling          13.87    48:27         3:30   \n",
            "\n",
            "                     Average Speed (km/h)  Climb (m)  Average Heart Rate (bpm)  \n",
            "Date                                                                            \n",
            "2018-10-06 16:45:02                 13.63        210                      79.0  \n",
            "2018-09-16 14:55:03                 16.98        462                     118.0  \n",
            "2018-09-01 17:06:15                 18.65        491                     122.0  \n",
            "2018-08-28 18:44:33                 19.40        400                     111.0  \n",
            "2018-08-25 17:18:32                 16.28        199                     124.0  \n",
            "2017-09-22 12:27:14                 18.15        367                       NaN  \n",
            "2017-08-17 18:36:00                 23.25        164                     138.0  \n",
            "2017-05-01 17:38:35                 22.24        204                     135.0  \n",
            "2016-10-03 11:47:16                 19.50        301                     126.0  \n",
            "2016-09-10 17:13:51                 23.99        163                     136.0  \n",
            "2016-09-04 17:08:28                 20.09        184                     134.0  \n",
            "2016-08-27 17:08:38                 21.49        307                     134.0  \n",
            "2016-08-20 15:43:49                 21.03        553                     138.0  \n",
            "2016-08-17 17:17:09                 15.86        316                     122.0  \n",
            "2016-05-22 15:31:06                 21.81        319                       NaN  \n",
            "2015-10-18 15:43:06                 14.54        166                       NaN  \n",
            "2015-08-23 17:35:47                 22.64        336                       NaN  \n",
            "2015-08-15 18:46:21                 21.30        139                       NaN  \n",
            "2015-08-01 18:40:14                 19.88        195                       NaN  \n",
            "2015-06-21 17:53:46                 21.63        318                       NaN  \n",
            "2015-06-14 17:03:23                 21.16        294                       NaN  \n",
            "2015-06-06 18:30:39                 14.39        123                       NaN  \n",
            "2015-05-31 04:02:00                 11.38         58                       NaN  \n",
            "2015-05-23 19:07:40                 19.00        144                     124.0  \n",
            "2015-05-01 18:05:38                 16.06        132                     125.0  \n",
            "2014-08-29 18:56:02                 20.49        113                       NaN  \n",
            "2013-05-09 17:24:19                 24.33         88                       NaN  \n",
            "2013-05-05 14:26:37                 18.31         97                       NaN  \n",
            "2013-04-28 17:26:52                 17.17        133                       NaN  \n"
          ]
        }
      ]
    },
    {
      "cell_type": "code",
      "source": [
        "#Fill in the missing values for Average Heart Rate(bpm) in df_cycle with int(avg_hr_cycle) using the fillna() method.\n",
        "\n",
        "df_cycle['Average Heart Rate (bpm)'].fillna(int(avg_hr_cycle),inplace=True)\n",
        "df_cycle.info()"
      ],
      "metadata": {
        "colab": {
          "base_uri": "https://localhost:8080/"
        },
        "id": "Yeov5qTXMmSi",
        "outputId": "53fceee3-4fcf-43c3-da71-2239a268931c"
      },
      "execution_count": null,
      "outputs": [
        {
          "output_type": "stream",
          "name": "stdout",
          "text": [
            "<class 'pandas.core.frame.DataFrame'>\n",
            "DatetimeIndex: 29 entries, 2018-10-06 16:45:02 to 2013-04-28 17:26:52\n",
            "Data columns (total 7 columns):\n",
            " #   Column                    Non-Null Count  Dtype  \n",
            "---  ------                    --------------  -----  \n",
            " 0   Type                      29 non-null     object \n",
            " 1   Distance (km)             29 non-null     float64\n",
            " 2   Duration                  29 non-null     object \n",
            " 3   Average Pace              29 non-null     object \n",
            " 4   Average Speed (km/h)      29 non-null     float64\n",
            " 5   Climb (m)                 29 non-null     int64  \n",
            " 6   Average Heart Rate (bpm)  29 non-null     float64\n",
            "dtypes: float64(3), int64(1), object(3)\n",
            "memory usage: 1.8+ KB\n"
          ]
        }
      ]
    },
    {
      "cell_type": "code",
      "source": [
        "#Count the missing values for all columns in df_run.\n",
        "\n",
        "df_run=df_activities[df_activities[\"Type\"] == 'Running'].copy()\n",
        "df_run.isnull().sum()"
      ],
      "metadata": {
        "colab": {
          "base_uri": "https://localhost:8080/"
        },
        "id": "jJ-td-P7OmFr",
        "outputId": "ebf2731c-e7b0-4b3a-b3ff-f761d90fd997"
      },
      "execution_count": null,
      "outputs": [
        {
          "output_type": "execute_result",
          "data": {
            "text/plain": [
              "Type                          0\n",
              "Distance (km)                 0\n",
              "Duration                      0\n",
              "Average Pace                  0\n",
              "Average Speed (km/h)          0\n",
              "Climb (m)                     0\n",
              "Average Heart Rate (bpm)    182\n",
              "dtype: int64"
            ]
          },
          "metadata": {},
          "execution_count": 14
        }
      ]
    },
    {
      "cell_type": "markdown",
      "source": [
        "**Task4**"
      ],
      "metadata": {
        "id": "3byAOP3dRL-M"
      }
    },
    {
      "cell_type": "markdown",
      "source": [
        "Plot running data from 2013 through 2018"
      ],
      "metadata": {
        "id": "gfcjqQ-CRUOZ"
      }
    },
    {
      "cell_type": "code",
      "source": [
        "df_run"
      ],
      "metadata": {
        "colab": {
          "base_uri": "https://localhost:8080/",
          "height": 455
        },
        "id": "UKOftfC9TGuv",
        "outputId": "fca69f6c-08b0-4d58-e4b6-021f1970cd83"
      },
      "execution_count": null,
      "outputs": [
        {
          "output_type": "execute_result",
          "data": {
            "text/plain": [
              "                        Type  Distance (km) Duration Average Pace  \\\n",
              "Date                                                                \n",
              "2018-11-11 14:05:12  Running          10.44    58:40         5:37   \n",
              "2018-11-09 15:02:35  Running          12.84  1:14:12         5:47   \n",
              "2018-11-04 16:05:00  Running          13.01  1:15:16         5:47   \n",
              "2018-11-01 14:03:58  Running          12.98  1:14:25         5:44   \n",
              "2018-10-27 17:01:36  Running          13.02  1:12:50         5:36   \n",
              "...                      ...            ...      ...          ...   \n",
              "2012-09-08 08:35:02  Running           3.27    15:55         4:52   \n",
              "2012-09-04 19:12:17  Running           6.26    32:35         5:12   \n",
              "2012-09-02 08:41:31  Running           3.14    16:16         5:11   \n",
              "2012-08-24 08:13:12  Running           3.15    16:00         5:05   \n",
              "2012-08-22 18:53:54  Running           5.69    31:08         5:29   \n",
              "\n",
              "                     Average Speed (km/h)  Climb (m)  Average Heart Rate (bpm)  \n",
              "Date                                                                            \n",
              "2018-11-11 14:05:12                 10.68        130                     159.0  \n",
              "2018-11-09 15:02:35                 10.39        168                     159.0  \n",
              "2018-11-04 16:05:00                 10.37        171                     155.0  \n",
              "2018-11-01 14:03:58                 10.47        169                     158.0  \n",
              "2018-10-27 17:01:36                 10.73        170                     154.0  \n",
              "...                                   ...        ...                       ...  \n",
              "2012-09-08 08:35:02                 12.32         15                       NaN  \n",
              "2012-09-04 19:12:17                 11.53         34                       NaN  \n",
              "2012-09-02 08:41:31                 11.56         18                       NaN  \n",
              "2012-08-24 08:13:12                 11.82         17                       NaN  \n",
              "2012-08-22 18:53:54                 10.95         32                       NaN  \n",
              "\n",
              "[459 rows x 7 columns]"
            ],
            "text/html": [
              "\n",
              "  <div id=\"df-ec8daae9-09cc-42c6-8b80-f572032b7061\">\n",
              "    <div class=\"colab-df-container\">\n",
              "      <div>\n",
              "<style scoped>\n",
              "    .dataframe tbody tr th:only-of-type {\n",
              "        vertical-align: middle;\n",
              "    }\n",
              "\n",
              "    .dataframe tbody tr th {\n",
              "        vertical-align: top;\n",
              "    }\n",
              "\n",
              "    .dataframe thead th {\n",
              "        text-align: right;\n",
              "    }\n",
              "</style>\n",
              "<table border=\"1\" class=\"dataframe\">\n",
              "  <thead>\n",
              "    <tr style=\"text-align: right;\">\n",
              "      <th></th>\n",
              "      <th>Type</th>\n",
              "      <th>Distance (km)</th>\n",
              "      <th>Duration</th>\n",
              "      <th>Average Pace</th>\n",
              "      <th>Average Speed (km/h)</th>\n",
              "      <th>Climb (m)</th>\n",
              "      <th>Average Heart Rate (bpm)</th>\n",
              "    </tr>\n",
              "    <tr>\n",
              "      <th>Date</th>\n",
              "      <th></th>\n",
              "      <th></th>\n",
              "      <th></th>\n",
              "      <th></th>\n",
              "      <th></th>\n",
              "      <th></th>\n",
              "      <th></th>\n",
              "    </tr>\n",
              "  </thead>\n",
              "  <tbody>\n",
              "    <tr>\n",
              "      <th>2018-11-11 14:05:12</th>\n",
              "      <td>Running</td>\n",
              "      <td>10.44</td>\n",
              "      <td>58:40</td>\n",
              "      <td>5:37</td>\n",
              "      <td>10.68</td>\n",
              "      <td>130</td>\n",
              "      <td>159.0</td>\n",
              "    </tr>\n",
              "    <tr>\n",
              "      <th>2018-11-09 15:02:35</th>\n",
              "      <td>Running</td>\n",
              "      <td>12.84</td>\n",
              "      <td>1:14:12</td>\n",
              "      <td>5:47</td>\n",
              "      <td>10.39</td>\n",
              "      <td>168</td>\n",
              "      <td>159.0</td>\n",
              "    </tr>\n",
              "    <tr>\n",
              "      <th>2018-11-04 16:05:00</th>\n",
              "      <td>Running</td>\n",
              "      <td>13.01</td>\n",
              "      <td>1:15:16</td>\n",
              "      <td>5:47</td>\n",
              "      <td>10.37</td>\n",
              "      <td>171</td>\n",
              "      <td>155.0</td>\n",
              "    </tr>\n",
              "    <tr>\n",
              "      <th>2018-11-01 14:03:58</th>\n",
              "      <td>Running</td>\n",
              "      <td>12.98</td>\n",
              "      <td>1:14:25</td>\n",
              "      <td>5:44</td>\n",
              "      <td>10.47</td>\n",
              "      <td>169</td>\n",
              "      <td>158.0</td>\n",
              "    </tr>\n",
              "    <tr>\n",
              "      <th>2018-10-27 17:01:36</th>\n",
              "      <td>Running</td>\n",
              "      <td>13.02</td>\n",
              "      <td>1:12:50</td>\n",
              "      <td>5:36</td>\n",
              "      <td>10.73</td>\n",
              "      <td>170</td>\n",
              "      <td>154.0</td>\n",
              "    </tr>\n",
              "    <tr>\n",
              "      <th>...</th>\n",
              "      <td>...</td>\n",
              "      <td>...</td>\n",
              "      <td>...</td>\n",
              "      <td>...</td>\n",
              "      <td>...</td>\n",
              "      <td>...</td>\n",
              "      <td>...</td>\n",
              "    </tr>\n",
              "    <tr>\n",
              "      <th>2012-09-08 08:35:02</th>\n",
              "      <td>Running</td>\n",
              "      <td>3.27</td>\n",
              "      <td>15:55</td>\n",
              "      <td>4:52</td>\n",
              "      <td>12.32</td>\n",
              "      <td>15</td>\n",
              "      <td>NaN</td>\n",
              "    </tr>\n",
              "    <tr>\n",
              "      <th>2012-09-04 19:12:17</th>\n",
              "      <td>Running</td>\n",
              "      <td>6.26</td>\n",
              "      <td>32:35</td>\n",
              "      <td>5:12</td>\n",
              "      <td>11.53</td>\n",
              "      <td>34</td>\n",
              "      <td>NaN</td>\n",
              "    </tr>\n",
              "    <tr>\n",
              "      <th>2012-09-02 08:41:31</th>\n",
              "      <td>Running</td>\n",
              "      <td>3.14</td>\n",
              "      <td>16:16</td>\n",
              "      <td>5:11</td>\n",
              "      <td>11.56</td>\n",
              "      <td>18</td>\n",
              "      <td>NaN</td>\n",
              "    </tr>\n",
              "    <tr>\n",
              "      <th>2012-08-24 08:13:12</th>\n",
              "      <td>Running</td>\n",
              "      <td>3.15</td>\n",
              "      <td>16:00</td>\n",
              "      <td>5:05</td>\n",
              "      <td>11.82</td>\n",
              "      <td>17</td>\n",
              "      <td>NaN</td>\n",
              "    </tr>\n",
              "    <tr>\n",
              "      <th>2012-08-22 18:53:54</th>\n",
              "      <td>Running</td>\n",
              "      <td>5.69</td>\n",
              "      <td>31:08</td>\n",
              "      <td>5:29</td>\n",
              "      <td>10.95</td>\n",
              "      <td>32</td>\n",
              "      <td>NaN</td>\n",
              "    </tr>\n",
              "  </tbody>\n",
              "</table>\n",
              "<p>459 rows × 7 columns</p>\n",
              "</div>\n",
              "      <button class=\"colab-df-convert\" onclick=\"convertToInteractive('df-ec8daae9-09cc-42c6-8b80-f572032b7061')\"\n",
              "              title=\"Convert this dataframe to an interactive table.\"\n",
              "              style=\"display:none;\">\n",
              "        \n",
              "  <svg xmlns=\"http://www.w3.org/2000/svg\" height=\"24px\"viewBox=\"0 0 24 24\"\n",
              "       width=\"24px\">\n",
              "    <path d=\"M0 0h24v24H0V0z\" fill=\"none\"/>\n",
              "    <path d=\"M18.56 5.44l.94 2.06.94-2.06 2.06-.94-2.06-.94-.94-2.06-.94 2.06-2.06.94zm-11 1L8.5 8.5l.94-2.06 2.06-.94-2.06-.94L8.5 2.5l-.94 2.06-2.06.94zm10 10l.94 2.06.94-2.06 2.06-.94-2.06-.94-.94-2.06-.94 2.06-2.06.94z\"/><path d=\"M17.41 7.96l-1.37-1.37c-.4-.4-.92-.59-1.43-.59-.52 0-1.04.2-1.43.59L10.3 9.45l-7.72 7.72c-.78.78-.78 2.05 0 2.83L4 21.41c.39.39.9.59 1.41.59.51 0 1.02-.2 1.41-.59l7.78-7.78 2.81-2.81c.8-.78.8-2.07 0-2.86zM5.41 20L4 18.59l7.72-7.72 1.47 1.35L5.41 20z\"/>\n",
              "  </svg>\n",
              "      </button>\n",
              "      \n",
              "  <style>\n",
              "    .colab-df-container {\n",
              "      display:flex;\n",
              "      flex-wrap:wrap;\n",
              "      gap: 12px;\n",
              "    }\n",
              "\n",
              "    .colab-df-convert {\n",
              "      background-color: #E8F0FE;\n",
              "      border: none;\n",
              "      border-radius: 50%;\n",
              "      cursor: pointer;\n",
              "      display: none;\n",
              "      fill: #1967D2;\n",
              "      height: 32px;\n",
              "      padding: 0 0 0 0;\n",
              "      width: 32px;\n",
              "    }\n",
              "\n",
              "    .colab-df-convert:hover {\n",
              "      background-color: #E2EBFA;\n",
              "      box-shadow: 0px 1px 2px rgba(60, 64, 67, 0.3), 0px 1px 3px 1px rgba(60, 64, 67, 0.15);\n",
              "      fill: #174EA6;\n",
              "    }\n",
              "\n",
              "    [theme=dark] .colab-df-convert {\n",
              "      background-color: #3B4455;\n",
              "      fill: #D2E3FC;\n",
              "    }\n",
              "\n",
              "    [theme=dark] .colab-df-convert:hover {\n",
              "      background-color: #434B5C;\n",
              "      box-shadow: 0px 1px 3px 1px rgba(0, 0, 0, 0.15);\n",
              "      filter: drop-shadow(0px 1px 2px rgba(0, 0, 0, 0.3));\n",
              "      fill: #FFFFFF;\n",
              "    }\n",
              "  </style>\n",
              "\n",
              "      <script>\n",
              "        const buttonEl =\n",
              "          document.querySelector('#df-ec8daae9-09cc-42c6-8b80-f572032b7061 button.colab-df-convert');\n",
              "        buttonEl.style.display =\n",
              "          google.colab.kernel.accessAllowed ? 'block' : 'none';\n",
              "\n",
              "        async function convertToInteractive(key) {\n",
              "          const element = document.querySelector('#df-ec8daae9-09cc-42c6-8b80-f572032b7061');\n",
              "          const dataTable =\n",
              "            await google.colab.kernel.invokeFunction('convertToInteractive',\n",
              "                                                     [key], {});\n",
              "          if (!dataTable) return;\n",
              "\n",
              "          const docLinkHtml = 'Like what you see? Visit the ' +\n",
              "            '<a target=\"_blank\" href=https://colab.research.google.com/notebooks/data_table.ipynb>data table notebook</a>'\n",
              "            + ' to learn more about interactive tables.';\n",
              "          element.innerHTML = '';\n",
              "          dataTable['output_type'] = 'display_data';\n",
              "          await google.colab.output.renderOutput(dataTable, element);\n",
              "          const docLink = document.createElement('div');\n",
              "          docLink.innerHTML = docLinkHtml;\n",
              "          element.appendChild(docLink);\n",
              "        }\n",
              "      </script>\n",
              "    </div>\n",
              "  </div>\n",
              "  "
            ]
          },
          "metadata": {},
          "execution_count": 15
        }
      ]
    },
    {
      "cell_type": "code",
      "source": [
        "avg_hr_run=df_activities[df_activities['Type']=='Running']['Average Heart Rate (bpm)'].mean()\n",
        "df_run['Average Heart Rate (bpm)'].fillna(int(avg_hr_run), inplace=True)\n",
        "df_run.isnull().sum()"
      ],
      "metadata": {
        "colab": {
          "base_uri": "https://localhost:8080/"
        },
        "id": "HbkSPyS7ewvK",
        "outputId": "c8f9bdb4-e17e-4844-bf86-38533329a27a"
      },
      "execution_count": null,
      "outputs": [
        {
          "output_type": "execute_result",
          "data": {
            "text/plain": [
              "Type                        0\n",
              "Distance (km)               0\n",
              "Duration                    0\n",
              "Average Pace                0\n",
              "Average Speed (km/h)        0\n",
              "Climb (m)                   0\n",
              "Average Heart Rate (bpm)    0\n",
              "dtype: int64"
            ]
          },
          "metadata": {},
          "execution_count": 16
        }
      ]
    },
    {
      "cell_type": "code",
      "source": [
        "%matplotlib inline\n",
        "\n",
        "# Import matplotlib, set style and ignore warning\n",
        "import matplotlib.pyplot as plt\n",
        "%matplotlib inline\n",
        "import warnings\n",
        "plt.style.use('ggplot')\n",
        "warnings.filterwarnings(action='ignore', module='matplotlib.figure', category=UserWarning,\n",
        "    message=('This figure includes Axes that are not compatible with tight_layout, so results might be incorrect.')\n",
        ")"
      ],
      "metadata": {
        "id": "8SWkSNdjWDkL"
      },
      "execution_count": null,
      "outputs": []
    },
    {
      "cell_type": "code",
      "source": [
        "#Subset df_run for data from 2013 through 2018. Take into account that observations indataset stored in \n",
        "#chronological order - most recent records first. Assign the resultto runs_subset_2013_2018.\n",
        "runs_subset_2013_2018=df_run[\"2013\":\"2018\"]"
      ],
      "metadata": {
        "colab": {
          "base_uri": "https://localhost:8080/"
        },
        "id": "k7Zgx4trRXY9",
        "outputId": "d0771410-e3ed-456e-818b-85459d2a22d8"
      },
      "execution_count": null,
      "outputs": [
        {
          "output_type": "stream",
          "name": "stderr",
          "text": [
            "<ipython-input-18-6a21bde4cda3>:3: FutureWarning: Value based partial slicing on non-monotonic DatetimeIndexes with non-existing keys is deprecated and will raise a KeyError in a future Version.\n",
            "  runs_subset_2013_2018=df_run[\"2013\":\"2018\"]\n"
          ]
        }
      ]
    },
    {
      "cell_type": "code",
      "source": [
        "#In the plotting code, enable subplots by setting the subplots parameter to True.\n",
        "# Don’t usespaces around the = sign when used to indicate a keyword argument.\n",
        "\n",
        "runs_subset_2013_2018.plot(subplots=True,\n",
        "                           sharex=False,\n",
        "                           figsize=(12,16),\n",
        "                           linestyle='none',\n",
        "                           marker='o',\n",
        "                           markersize=3,\n",
        "                          )\n",
        "\n",
        "# Show the plot using plt.show()\n",
        "plt.show()"
      ],
      "metadata": {
        "colab": {
          "base_uri": "https://localhost:8080/",
          "height": 1000
        },
        "id": "cHO0sy-qUVpn",
        "outputId": "5a4ff6ed-4b1c-49ab-fa56-56f60cbf23a1"
      },
      "execution_count": null,
      "outputs": [
        {
          "output_type": "display_data",
          "data": {
            "text/plain": [
              "<Figure size 1200x1600 with 4 Axes>"
            ],
            "image/png": "[encoded data removed]"
          },
          "metadata": {}
        }
      ]
    },
    {
      "cell_type": "markdown",
      "source": [
        "**Task5**"
      ],
      "metadata": {
        "id": "UpVxgIzvZUf2"
      }
    },
    {
      "cell_type": "markdown",
      "source": [
        "Calculate annual and weekly means for Distance (km), Average Speed (km/h), Climb(m) and Average Heart Rate (bpm)."
      ],
      "metadata": {
        "id": "5gNFtjzlZh8-"
      }
    },
    {
      "cell_type": "code",
      "source": [
        "#Subset df_run for data from 2015 through 2018. Assign the resultto runs_subset_2015_2018.\n",
        "\n",
        "runs_subset_2015_2018=df_run[\"2015\":\"2018\"]"
      ],
      "metadata": {
        "colab": {
          "base_uri": "https://localhost:8080/"
        },
        "id": "vW__RlwuZJLa",
        "outputId": "1aa37fd9-493a-4da9-fe6a-26e7732409e5"
      },
      "execution_count": null,
      "outputs": [
        {
          "output_type": "stream",
          "name": "stderr",
          "text": [
            "<ipython-input-20-9afc9314e9b1>:3: FutureWarning: Value based partial slicing on non-monotonic DatetimeIndexes with non-existing keys is deprecated and will raise a KeyError in a future Version.\n",
            "  runs_subset_2015_2018=df_run[\"2015\":\"2018\"]\n"
          ]
        }
      ]
    },
    {
      "cell_type": "code",
      "source": [
        "#Count the annual averages using resample() with 'A' alias, and the mean() methodfor runs_subset_2015_2018.\n",
        "print(\"The 4 year's annual averages\")\n",
        "display(runs_subset_2015_2018.resample(\"A\").mean())"
      ],
      "metadata": {
        "colab": {
          "base_uri": "https://localhost:8080/",
          "height": 278
        },
        "id": "A7R2khxFaKFN",
        "outputId": "d8ee2d32-8cab-42c3-a887-7bb60c87a650"
      },
      "execution_count": null,
      "outputs": [
        {
          "output_type": "stream",
          "name": "stdout",
          "text": [
            "The 4 year's annual averages\n"
          ]
        },
        {
          "output_type": "stream",
          "name": "stderr",
          "text": [
            "<ipython-input-21-2c573cf7223e>:3: FutureWarning: The default value of numeric_only in DataFrameGroupBy.mean is deprecated. In a future version, numeric_only will default to False. Either specify numeric_only or select only columns which should be valid for the function.\n",
            "  display(runs_subset_2015_2018.resample(\"A\").mean())\n"
          ]
        },
        {
          "output_type": "display_data",
          "data": {
            "text/plain": [
              "            Distance (km)  Average Speed (km/h)   Climb (m)  \\\n",
              "Date                                                          \n",
              "2015-12-31      13.602805             10.998902  160.170732   \n",
              "2016-12-31      11.411667             10.837778  133.194444   \n",
              "2017-12-31      12.935176             10.959059  169.376471   \n",
              "2018-12-31      13.339063             10.777969  191.218750   \n",
              "\n",
              "            Average Heart Rate (bpm)  \n",
              "Date                                  \n",
              "2015-12-31                143.353659  \n",
              "2016-12-31                143.388889  \n",
              "2017-12-31                145.247059  \n",
              "2018-12-31                148.125000  "
            ],
            "text/html": [
              "\n",
              "  <div id=\"df-b5d70f3c-b52e-4c96-8381-95c4c7bae223\">\n",
              "    <div class=\"colab-df-container\">\n",
              "      <div>\n",
              "<style scoped>\n",
              "    .dataframe tbody tr th:only-of-type {\n",
              "        vertical-align: middle;\n",
              "    }\n",
              "\n",
              "    .dataframe tbody tr th {\n",
              "        vertical-align: top;\n",
              "    }\n",
              "\n",
              "    .dataframe thead th {\n",
              "        text-align: right;\n",
              "    }\n",
              "</style>\n",
              "<table border=\"1\" class=\"dataframe\">\n",
              "  <thead>\n",
              "    <tr style=\"text-align: right;\">\n",
              "      <th></th>\n",
              "      <th>Distance (km)</th>\n",
              "      <th>Average Speed (km/h)</th>\n",
              "      <th>Climb (m)</th>\n",
              "      <th>Average Heart Rate (bpm)</th>\n",
              "    </tr>\n",
              "    <tr>\n",
              "      <th>Date</th>\n",
              "      <th></th>\n",
              "      <th></th>\n",
              "      <th></th>\n",
              "      <th></th>\n",
              "    </tr>\n",
              "  </thead>\n",
              "  <tbody>\n",
              "    <tr>\n",
              "      <th>2015-12-31</th>\n",
              "      <td>13.602805</td>\n",
              "      <td>10.998902</td>\n",
              "      <td>160.170732</td>\n",
              "      <td>143.353659</td>\n",
              "    </tr>\n",
              "    <tr>\n",
              "      <th>2016-12-31</th>\n",
              "      <td>11.411667</td>\n",
              "      <td>10.837778</td>\n",
              "      <td>133.194444</td>\n",
              "      <td>143.388889</td>\n",
              "    </tr>\n",
              "    <tr>\n",
              "      <th>2017-12-31</th>\n",
              "      <td>12.935176</td>\n",
              "      <td>10.959059</td>\n",
              "      <td>169.376471</td>\n",
              "      <td>145.247059</td>\n",
              "    </tr>\n",
              "    <tr>\n",
              "      <th>2018-12-31</th>\n",
              "      <td>13.339063</td>\n",
              "      <td>10.777969</td>\n",
              "      <td>191.218750</td>\n",
              "      <td>148.125000</td>\n",
              "    </tr>\n",
              "  </tbody>\n",
              "</table>\n",
              "</div>\n",
              "      <button class=\"colab-df-convert\" onclick=\"convertToInteractive('df-b5d70f3c-b52e-4c96-8381-95c4c7bae223')\"\n",
              "              title=\"Convert this dataframe to an interactive table.\"\n",
              "              style=\"display:none;\">\n",
              "        \n",
              "  <svg xmlns=\"http://www.w3.org/2000/svg\" height=\"24px\"viewBox=\"0 0 24 24\"\n",
              "       width=\"24px\">\n",
              "    <path d=\"M0 0h24v24H0V0z\" fill=\"none\"/>\n",
              "    <path d=\"M18.56 5.44l.94 2.06.94-2.06 2.06-.94-2.06-.94-.94-2.06-.94 2.06-2.06.94zm-11 1L8.5 8.5l.94-2.06 2.06-.94-2.06-.94L8.5 2.5l-.94 2.06-2.06.94zm10 10l.94 2.06.94-2.06 2.06-.94-2.06-.94-.94-2.06-.94 2.06-2.06.94z\"/><path d=\"M17.41 7.96l-1.37-1.37c-.4-.4-.92-.59-1.43-.59-.52 0-1.04.2-1.43.59L10.3 9.45l-7.72 7.72c-.78.78-.78 2.05 0 2.83L4 21.41c.39.39.9.59 1.41.59.51 0 1.02-.2 1.41-.59l7.78-7.78 2.81-2.81c.8-.78.8-2.07 0-2.86zM5.41 20L4 18.59l7.72-7.72 1.47 1.35L5.41 20z\"/>\n",
              "  </svg>\n",
              "      </button>\n",
              "      \n",
              "  <style>\n",
              "    .colab-df-container {\n",
              "      display:flex;\n",
              "      flex-wrap:wrap;\n",
              "      gap: 12px;\n",
              "    }\n",
              "\n",
              "    .colab-df-convert {\n",
              "      background-color: #E8F0FE;\n",
              "      border: none;\n",
              "      border-radius: 50%;\n",
              "      cursor: pointer;\n",
              "      display: none;\n",
              "      fill: #1967D2;\n",
              "      height: 32px;\n",
              "      padding: 0 0 0 0;\n",
              "      width: 32px;\n",
              "    }\n",
              "\n",
              "    .colab-df-convert:hover {\n",
              "      background-color: #E2EBFA;\n",
              "      box-shadow: 0px 1px 2px rgba(60, 64, 67, 0.3), 0px 1px 3px 1px rgba(60, 64, 67, 0.15);\n",
              "      fill: #174EA6;\n",
              "    }\n",
              "\n",
              "    [theme=dark] .colab-df-convert {\n",
              "      background-color: #3B4455;\n",
              "      fill: #D2E3FC;\n",
              "    }\n",
              "\n",
              "    [theme=dark] .colab-df-convert:hover {\n",
              "      background-color: #434B5C;\n",
              "      box-shadow: 0px 1px 3px 1px rgba(0, 0, 0, 0.15);\n",
              "      filter: drop-shadow(0px 1px 2px rgba(0, 0, 0, 0.3));\n",
              "      fill: #FFFFFF;\n",
              "    }\n",
              "  </style>\n",
              "\n",
              "      <script>\n",
              "        const buttonEl =\n",
              "          document.querySelector('#df-b5d70f3c-b52e-4c96-8381-95c4c7bae223 button.colab-df-convert');\n",
              "        buttonEl.style.display =\n",
              "          google.colab.kernel.accessAllowed ? 'block' : 'none';\n",
              "\n",
              "        async function convertToInteractive(key) {\n",
              "          const element = document.querySelector('#df-b5d70f3c-b52e-4c96-8381-95c4c7bae223');\n",
              "          const dataTable =\n",
              "            await google.colab.kernel.invokeFunction('convertToInteractive',\n",
              "                                                     [key], {});\n",
              "          if (!dataTable) return;\n",
              "\n",
              "          const docLinkHtml = 'Like what you see? Visit the ' +\n",
              "            '<a target=\"_blank\" href=https://colab.research.google.com/notebooks/data_table.ipynb>data table notebook</a>'\n",
              "            + ' to learn more about interactive tables.';\n",
              "          element.innerHTML = '';\n",
              "          dataTable['output_type'] = 'display_data';\n",
              "          await google.colab.output.renderOutput(dataTable, element);\n",
              "          const docLink = document.createElement('div');\n",
              "          docLink.innerHTML = docLinkHtml;\n",
              "          element.appendChild(docLink);\n",
              "        }\n",
              "      </script>\n",
              "    </div>\n",
              "  </div>\n",
              "  "
            ]
          },
          "metadata": {}
        }
      ]
    },
    {
      "cell_type": "code",
      "source": [
        "#Count the average weekly statistics using resample() with 'W' alias, andthe mean() method twice.\n",
        "\n",
        "print(\"4 Year's weekly average statistics\")\n",
        "display(runs_subset_2015_2018.resample(\"W\").mean().mean())"
      ],
      "metadata": {
        "colab": {
          "base_uri": "https://localhost:8080/",
          "height": 176
        },
        "id": "JBRHavU2bEVA",
        "outputId": "906fafd8-630a-4c8e-c6ad-5ce5d93ad335"
      },
      "execution_count": null,
      "outputs": [
        {
          "output_type": "stream",
          "name": "stdout",
          "text": [
            "4 Year's weekly average statistics\n"
          ]
        },
        {
          "output_type": "stream",
          "name": "stderr",
          "text": [
            "<ipython-input-22-d11583cbb026>:4: FutureWarning: The default value of numeric_only in DataFrameGroupBy.mean is deprecated. In a future version, numeric_only will default to False. Either specify numeric_only or select only columns which should be valid for the function.\n",
            "  display(runs_subset_2015_2018.resample(\"W\").mean().mean())\n"
          ]
        },
        {
          "output_type": "display_data",
          "data": {
            "text/plain": [
              "Distance (km)                12.518176\n",
              "Average Speed (km/h)         10.835473\n",
              "Climb (m)                   158.325444\n",
              "Average Heart Rate (bpm)    144.801775\n",
              "dtype: float64"
            ]
          },
          "metadata": {}
        }
      ]
    },
    {
      "cell_type": "code",
      "source": [
        "#Filter from dataset column Distance (km) and count the average number of trainings perweek \n",
        "#using resample() with the count() and mean() methods. Assign the result to weekly_counts_average.\n",
        "\n",
        "weekly_counts_average=runs_subset_2015_2018[\"Distance (km)\"].resample(\"W\").count().mean()\n",
        "print(\"How many trainings per week I had on average:\",weekly_counts_average)\n"
      ],
      "metadata": {
        "colab": {
          "base_uri": "https://localhost:8080/"
        },
        "id": "aqeUAphDcZ_p",
        "outputId": "7a59c6c6-a07f-424e-c935-f7ea18965c44"
      },
      "execution_count": null,
      "outputs": [
        {
          "output_type": "stream",
          "name": "stdout",
          "text": [
            "How many trainings per week I had on average: 1.5\n"
          ]
        }
      ]
    },
    {
      "cell_type": "markdown",
      "source": [
        "**Task6**"
      ],
      "metadata": {
        "id": "rvmBzOZOdwvO"
      }
    },
    {
      "cell_type": "markdown",
      "source": [
        "Prepare data and create a plot"
      ],
      "metadata": {
        "id": "GUFUPvVVeLPX"
      }
    },
    {
      "cell_type": "code",
      "source": [
        "#Select information for distance and then for heart rate from runs_subset_2015_2018 and assign\n",
        "# to runs_distance and runs_hr, respectively\n",
        "\n",
        "runs_distance=runs_subset_2015_2018[\"Distance (km)\"]\n",
        "runs_hr=runs_subset_2015_2018[\"Average Heart Rate (bpm)\"]\n",
        "\n",
        "\n",
        "#Create two subplots with shared x-axis using the plt.subplots() method, \n",
        "#setting the firstpositional parameter to 2, sharex to True, and figsize to (12,8). Assign the outputto fig, (ax1, ax2) variables.\n",
        "\n",
        "fig, (ax1, ax2) = plt.subplots(2, 1, sharex=True, figsize=(12, 8))\n",
        "\n",
        "\n",
        "#Plot distance on the first subplot, setting parameter ax to ax1.\n",
        "runs_distance.plot(ax=ax1)\n",
        "ax1.set(ylabel='Distance (km)', title='Historical data with averages')\n",
        "ax1.axhline(runs_distance.mean(), color='blue', linewidth=1, linestyle='-.')\n",
        "\n",
        "# On the second subplot (ax2), add a horizontal line with axhline() for the average value ofheart rate counted as runs_hr.mean().\n",
        "# Set color to 'blue', linewidth to 1,and linestyle to '-.'\n",
        "\n",
        "\n",
        "runs_hr.plot(ax=ax2, color='gray')\n",
        "ax2.set(xlabel='Date', ylabel='Average Heart Rate (bpm)')\n",
        "ax2.axhline(runs_hr.mean(), color='blue', linewidth=1, linestyle='-.')\n",
        "\n",
        "# Show plot\n",
        "plt.show()"
      ],
      "metadata": {
        "colab": {
          "base_uri": "https://localhost:8080/",
          "height": 678
        },
        "id": "i_mf0affePjU",
        "outputId": "6ee55936-11cf-45c7-bb08-f777241200a0"
      },
      "execution_count": null,
      "outputs": [
        {
          "output_type": "display_data",
          "data": {
            "text/plain": [
              "<Figure size 1200x800 with 2 Axes>"
            ],
            "image/png": "[encoded data removed]"
          },
          "metadata": {}
        }
      ]
    },
    {
      "cell_type": "markdown",
      "source": [
        "**Task 7**"
      ],
      "metadata": {
        "id": "8WhYzG6sjL5d"
      }
    },
    {
      "cell_type": "markdown",
      "source": [
        "Prepare data and create a plot"
      ],
      "metadata": {
        "id": "9ZARw0e0jXuy"
      }
    },
    {
      "cell_type": "code",
      "source": [
        "#Subset df_run for data from 2013 through 2018 and select the Distance (km) column.\n",
        "#Count annual totals with resample() and sum(). Assign the resultto df_run_dist_annual\n",
        "\n",
        "df_run_dist_annual=runs_subset_2013_2018[\"Distance (km)\"].resample(\"A\").sum()\n",
        "print(df_run_dist_annual)"
      ],
      "metadata": {
        "colab": {
          "base_uri": "https://localhost:8080/"
        },
        "id": "QFJiEmV8jcol",
        "outputId": "ad5044c6-cc62-43e2-940b-9c794ad71023"
      },
      "execution_count": null,
      "outputs": [
        {
          "output_type": "stream",
          "name": "stdout",
          "text": [
            "Date\n",
            "2013-12-31     498.25\n",
            "2014-12-31     755.76\n",
            "2015-12-31    1115.43\n",
            "2016-12-31     821.64\n",
            "2017-12-31    1099.49\n",
            "2018-12-31     853.70\n",
            "Freq: A-DEC, Name: Distance (km), dtype: float64\n"
          ]
        }
      ]
    },
    {
      "cell_type": "code",
      "source": [
        "#Create a plot with plt.figure(), setting figsize to define a plot of size 8.0 inches x 5.0inches.\n",
        "\n",
        "fig=plt.figure(figsize=(8,5))"
      ],
      "metadata": {
        "colab": {
          "base_uri": "https://localhost:8080/",
          "height": 34
        },
        "id": "DiIJ9TZVkse_",
        "outputId": "a106f22b-00e4-4ae8-b7ce-81a2a61ff403"
      },
      "execution_count": null,
      "outputs": [
        {
          "output_type": "display_data",
          "data": {
            "text/plain": [
              "<Figure size 800x500 with 0 Axes>"
            ]
          },
          "metadata": {}
        }
      ]
    },
    {
      "cell_type": "code",
      "source": [
        "#Customize the plot with horizontal span from 0 to 800 km with ax.axhspan().Set color to 'red' and alpha to 0.2.\n",
        "\n",
        "\n",
        "ax = df_run_dist_annual.plot(marker='*', markersize=14, linewidth=0, color='blue')\n",
        "ax.set(ylim=[0, 1210], \n",
        "       xlim=['2012','2019'],\n",
        "       ylabel='Distance (km)',\n",
        "       xlabel='Years',\n",
        "       title='Annual totals for distance')\n",
        "\n",
        "ax.axhspan(1000, 1210, color='green', alpha=0.4)\n",
        "ax.axhspan(800, 1000, color='yellow', alpha=0.3)\n",
        "ax.axhspan(0, 800, color='red', alpha=0.2)\n",
        "\n",
        "#•Show the plot with plt.show().\n",
        "plt.show()"
      ],
      "metadata": {
        "colab": {
          "base_uri": "https://localhost:8080/",
          "height": 477
        },
        "id": "9DuP85UplVuk",
        "outputId": "f1094936-70e3-4ddd-e49b-09827a46e77d"
      },
      "execution_count": null,
      "outputs": [
        {
          "output_type": "display_data",
          "data": {
            "text/plain": [
              "<Figure size 640x480 with 1 Axes>"
            ],
            "image/png": "[encoded data removed]"
          },
          "metadata": {}
        }
      ]
    },
    {
      "cell_type": "markdown",
      "source": [
        "**Task 8**"
      ],
      "metadata": {
        "id": "jMbz7NzhmIJL"
      }
    },
    {
      "cell_type": "markdown",
      "source": [
        "Create a plot with observed distance of runs and decomposed trend."
      ],
      "metadata": {
        "id": "syy_DvJimQXp"
      }
    },
    {
      "cell_type": "code",
      "source": [
        "#Import the statsmodels.api under the alias sm.\n",
        "\n",
        "import statsmodels.api as sm\n"
      ],
      "metadata": {
        "id": "RfXP3WPgmV2u"
      },
      "execution_count": null,
      "outputs": []
    },
    {
      "cell_type": "code",
      "source": [
        "#Subset df_run from 2013 through 2018, select Distance (km) column, resample weekly,and fill NaN values with the bfill() method.\n",
        "# Assign to df_run_dist_wkly.\n",
        "\n",
        "df_run_dist_wkly=runs_subset_2013_2018[\"Distance (km)\"].resample(\"W\").bfill()\n",
        "decomposed = sm.tsa.seasonal_decompose(df_run_dist_wkly, extrapolate_trend=1, period=52)"
      ],
      "metadata": {
        "id": "pmTa-fxRm71H"
      },
      "execution_count": null,
      "outputs": []
    },
    {
      "cell_type": "code",
      "source": [
        "#Create a plot with plt.figure(), defining plot size by setting figsize to (12,5).\n",
        "\n",
        "ax = decomposed.trend.plot(label='Trend', linewidth=2)\n",
        "ax = decomposed.observed.plot(label='Observed', linewidth=0.5)\n",
        "\n",
        "ax.legend()\n",
        "ax.set_title('Running distance trend')\n",
        "\n",
        "# Show plot\n",
        "plt.show()"
      ],
      "metadata": {
        "colab": {
          "base_uri": "https://localhost:8080/",
          "height": 477
        },
        "id": "ICi0BSEXoZGc",
        "outputId": "5f9525c2-1d73-4b4a-a085-dd2d604e795b"
      },
      "execution_count": null,
      "outputs": [
        {
          "output_type": "display_data",
          "data": {
            "text/plain": [
              "<Figure size 640x480 with 1 Axes>"
            ],
            "image/png": "[encoded data removed]"
          },
          "metadata": {}
        }
      ]
    },
    {
      "cell_type": "markdown",
      "source": [
        "**Task 9**"
      ],
      "metadata": {
        "id": "MVkhSWQ8o0oJ"
      }
    },
    {
      "cell_type": "markdown",
      "source": [
        "Create a customized histogram for heart rate distribution"
      ],
      "metadata": {
        "id": "uHJE3DAeo_1M"
      }
    },
    {
      "cell_type": "code",
      "source": [
        "!pip install matplotlib"
      ],
      "metadata": {
        "colab": {
          "base_uri": "https://localhost:8080/"
        },
        "id": "qIQtkuLjXsvO",
        "outputId": "d084eac5-4c40-4723-fb27-900c1d065f52"
      },
      "execution_count": null,
      "outputs": [
        {
          "output_type": "stream",
          "name": "stdout",
          "text": [
            "Looking in indexes: https://pypi.org/simple, https://us-python.pkg.dev/colab-wheels/public/simple/\n",
            "Requirement already satisfied: matplotlib in /usr/local/lib/python3.9/dist-packages (3.7.1)\n",
            "Requirement already satisfied: contourpy>=1.0.1 in /usr/local/lib/python3.9/dist-packages (from matplotlib) (1.0.7)\n",
            "Requirement already satisfied: cycler>=0.10 in /usr/local/lib/python3.9/dist-packages (from matplotlib) (0.11.0)\n",
            "Requirement already satisfied: pillow>=6.2.0 in /usr/local/lib/python3.9/dist-packages (from matplotlib) (8.4.0)\n",
            "Requirement already satisfied: fonttools>=4.22.0 in /usr/local/lib/python3.9/dist-packages (from matplotlib) (4.39.3)\n",
            "Requirement already satisfied: packaging>=20.0 in /usr/local/lib/python3.9/dist-packages (from matplotlib) (23.1)\n",
            "Requirement already satisfied: pyparsing>=2.3.1 in /usr/local/lib/python3.9/dist-packages (from matplotlib) (3.0.9)\n",
            "Requirement already satisfied: python-dateutil>=2.7 in /usr/local/lib/python3.9/dist-packages (from matplotlib) (2.8.2)\n",
            "Requirement already satisfied: importlib-resources>=3.2.0 in /usr/local/lib/python3.9/dist-packages (from matplotlib) (5.12.0)\n",
            "Requirement already satisfied: kiwisolver>=1.0.1 in /usr/local/lib/python3.9/dist-packages (from matplotlib) (1.4.4)\n",
            "Requirement already satisfied: numpy>=1.20 in /usr/local/lib/python3.9/dist-packages (from matplotlib) (1.22.4)\n",
            "Requirement already satisfied: zipp>=3.1.0 in /usr/local/lib/python3.9/dist-packages (from importlib-resources>=3.2.0->matplotlib) (3.15.0)\n",
            "Requirement already satisfied: six>=1.5 in /usr/local/lib/python3.9/dist-packages (from python-dateutil>=2.7->matplotlib) (1.16.0)\n"
          ]
        }
      ]
    },
    {
      "cell_type": "code",
      "source": [
        "#Subset df_run from March 2015 through 2018 then select the Average Heart Rate(bpm) column.\n",
        "# Assign the result to df_run_hr_all.\n",
        "\n",
        "\n",
        "df_run_hr_all = df_run['2015-03':'2018']['Average Heart Rate (bpm)']\n",
        "\n",
        "#Create a plot with plt.subplots(), setting figsize to (8,5). Assign the result to fig,ax.\n",
        "hr_zones = [100, 125, 133, 142, 151, 173]\n",
        "zone_names = ['Easy', 'Moderate', 'Hard', 'Very hard', 'Maximal']\n",
        "zone_colors = ['red', 'yellow', 'blue', 'green', 'orange']\n",
        "\n",
        "fig, ax = plt.subplots(figsize=(8, 5))\n",
        "\n",
        "#Create customized x-axis ticks with ax.set_xticklabels().\n",
        "# Set the parameters labels to zone_names, rotation to -30, and ha to 'left'.\n",
        "\n",
        "\n",
        "\n",
        "n, bins, patches = ax.hist(df_run_hr_all, bins=hr_zones, alpha=0.5)\n",
        "for i in range(0, len(patches)):\n",
        "    patches[i].set_facecolor(zone_colors[i])\n",
        "\n",
        "ax.set(title='Distribution of HR', ylabel='Number of runs')\n",
        "ax.xaxis.set(ticks=hr_zones)\n",
        "ax.set_xticklabels(labels=zone_names, rotation=-25, ha='left')\n",
        "\n",
        "#•Show the plot with plt.show()\n",
        "plt.show()"
      ],
      "metadata": {
        "colab": {
          "base_uri": "https://localhost:8080/",
          "height": 887
        },
        "id": "WrXDTCavqJ13",
        "outputId": "8de38e59-757b-44ab-c508-7ad8ad0aa0f9"
      },
      "execution_count": null,
      "outputs": [
        {
          "output_type": "stream",
          "name": "stderr",
          "text": [
            "<ipython-input-37-19c9657564db>:5: FutureWarning: Value based partial slicing on non-monotonic DatetimeIndexes with non-existing keys is deprecated and will raise a KeyError in a future Version.\n",
            "  df_run_hr_all = df_run['2015-03':'2018']['Average Heart Rate (bpm)']\n"
          ]
        },
        {
          "output_type": "error",
          "ename": "ValueError",
          "evalue": "ignored",
          "traceback": [
            "\u001b[0;31m---------------------------------------------------------------------------\u001b[0m",
            "\u001b[0;31mValueError\u001b[0m                                Traceback (most recent call last)",
            "\u001b[0;32m<ipython-input-37-19c9657564db>\u001b[0m in \u001b[0;36m<cell line: 25>\u001b[0;34m()\u001b[0m\n\u001b[1;32m     23\u001b[0m \u001b[0max\u001b[0m\u001b[0;34m.\u001b[0m\u001b[0mset\u001b[0m\u001b[0;34m(\u001b[0m\u001b[0mtitle\u001b[0m\u001b[0;34m=\u001b[0m\u001b[0;34m'Distribution of HR'\u001b[0m\u001b[0;34m,\u001b[0m \u001b[0mylabel\u001b[0m\u001b[0;34m=\u001b[0m\u001b[0;34m'Number of runs'\u001b[0m\u001b[0;34m)\u001b[0m\u001b[0;34m\u001b[0m\u001b[0;34m\u001b[0m\u001b[0m\n\u001b[1;32m     24\u001b[0m \u001b[0max\u001b[0m\u001b[0;34m.\u001b[0m\u001b[0mxaxis\u001b[0m\u001b[0;34m.\u001b[0m\u001b[0mset\u001b[0m\u001b[0;34m(\u001b[0m\u001b[0mticks\u001b[0m\u001b[0;34m=\u001b[0m\u001b[0mhr_zones\u001b[0m\u001b[0;34m)\u001b[0m\u001b[0;34m\u001b[0m\u001b[0;34m\u001b[0m\u001b[0m\n\u001b[0;32m---> 25\u001b[0;31m \u001b[0max\u001b[0m\u001b[0;34m.\u001b[0m\u001b[0mset_xticklabels\u001b[0m\u001b[0;34m(\u001b[0m\u001b[0mlabels\u001b[0m\u001b[0;34m=\u001b[0m\u001b[0mzone_names\u001b[0m\u001b[0;34m,\u001b[0m \u001b[0mrotation\u001b[0m\u001b[0;34m=\u001b[0m\u001b[0;34m-\u001b[0m\u001b[0;36m25\u001b[0m\u001b[0;34m,\u001b[0m \u001b[0mha\u001b[0m\u001b[0;34m=\u001b[0m\u001b[0;34m'left'\u001b[0m\u001b[0;34m)\u001b[0m\u001b[0;34m\u001b[0m\u001b[0;34m\u001b[0m\u001b[0m\n\u001b[0m\u001b[1;32m     26\u001b[0m \u001b[0;34m\u001b[0m\u001b[0m\n\u001b[1;32m     27\u001b[0m \u001b[0;31m#•Show the plot with plt.show()\u001b[0m\u001b[0;34m\u001b[0m\u001b[0;34m\u001b[0m\u001b[0m\n",
            "\u001b[0;32m/usr/local/lib/python3.9/dist-packages/matplotlib/axes/_base.py\u001b[0m in \u001b[0;36mwrapper\u001b[0;34m(self, *args, **kwargs)\u001b[0m\n\u001b[1;32m     72\u001b[0m \u001b[0;34m\u001b[0m\u001b[0m\n\u001b[1;32m     73\u001b[0m         \u001b[0;32mdef\u001b[0m \u001b[0mwrapper\u001b[0m\u001b[0;34m(\u001b[0m\u001b[0mself\u001b[0m\u001b[0;34m,\u001b[0m \u001b[0;34m*\u001b[0m\u001b[0margs\u001b[0m\u001b[0;34m,\u001b[0m \u001b[0;34m**\u001b[0m\u001b[0mkwargs\u001b[0m\u001b[0;34m)\u001b[0m\u001b[0;34m:\u001b[0m\u001b[0;34m\u001b[0m\u001b[0;34m\u001b[0m\u001b[0m\n\u001b[0;32m---> 74\u001b[0;31m             \u001b[0;32mreturn\u001b[0m \u001b[0mget_method\u001b[0m\u001b[0;34m(\u001b[0m\u001b[0mself\u001b[0m\u001b[0;34m)\u001b[0m\u001b[0;34m(\u001b[0m\u001b[0;34m*\u001b[0m\u001b[0margs\u001b[0m\u001b[0;34m,\u001b[0m \u001b[0;34m**\u001b[0m\u001b[0mkwargs\u001b[0m\u001b[0;34m)\u001b[0m\u001b[0;34m\u001b[0m\u001b[0;34m\u001b[0m\u001b[0m\n\u001b[0m\u001b[1;32m     75\u001b[0m \u001b[0;34m\u001b[0m\u001b[0m\n\u001b[1;32m     76\u001b[0m         \u001b[0mwrapper\u001b[0m\u001b[0;34m.\u001b[0m\u001b[0m__module__\u001b[0m \u001b[0;34m=\u001b[0m \u001b[0mowner\u001b[0m\u001b[0;34m.\u001b[0m\u001b[0m__module__\u001b[0m\u001b[0;34m\u001b[0m\u001b[0;34m\u001b[0m\u001b[0m\n",
            "\u001b[0;32m/usr/local/lib/python3.9/dist-packages/matplotlib/_api/deprecation.py\u001b[0m in \u001b[0;36mwrapper\u001b[0;34m(*args, **kwargs)\u001b[0m\n\u001b[1;32m    295\u001b[0m                 f\"for the old name will be dropped %(removal)s.\")\n\u001b[1;32m    296\u001b[0m             \u001b[0mkwargs\u001b[0m\u001b[0;34m[\u001b[0m\u001b[0mnew\u001b[0m\u001b[0;34m]\u001b[0m \u001b[0;34m=\u001b[0m \u001b[0mkwargs\u001b[0m\u001b[0;34m.\u001b[0m\u001b[0mpop\u001b[0m\u001b[0;34m(\u001b[0m\u001b[0mold\u001b[0m\u001b[0;34m)\u001b[0m\u001b[0;34m\u001b[0m\u001b[0;34m\u001b[0m\u001b[0m\n\u001b[0;32m--> 297\u001b[0;31m         \u001b[0;32mreturn\u001b[0m \u001b[0mfunc\u001b[0m\u001b[0;34m(\u001b[0m\u001b[0;34m*\u001b[0m\u001b[0margs\u001b[0m\u001b[0;34m,\u001b[0m \u001b[0;34m**\u001b[0m\u001b[0mkwargs\u001b[0m\u001b[0;34m)\u001b[0m\u001b[0;34m\u001b[0m\u001b[0;34m\u001b[0m\u001b[0m\n\u001b[0m\u001b[1;32m    298\u001b[0m \u001b[0;34m\u001b[0m\u001b[0m\n\u001b[1;32m    299\u001b[0m     \u001b[0;31m# wrapper() must keep the same documented signature as func(): if we\u001b[0m\u001b[0;34m\u001b[0m\u001b[0;34m\u001b[0m\u001b[0m\n",
            "\u001b[0;32m/usr/local/lib/python3.9/dist-packages/matplotlib/axis.py\u001b[0m in \u001b[0;36mset_ticklabels\u001b[0;34m(self, labels, minor, fontdict, **kwargs)\u001b[0m\n\u001b[1;32m   1967\u001b[0m             \u001b[0;31m# remove all tick labels, so only error for > 0 labels\u001b[0m\u001b[0;34m\u001b[0m\u001b[0;34m\u001b[0m\u001b[0m\n\u001b[1;32m   1968\u001b[0m             \u001b[0;32mif\u001b[0m \u001b[0mlen\u001b[0m\u001b[0;34m(\u001b[0m\u001b[0mlocator\u001b[0m\u001b[0;34m.\u001b[0m\u001b[0mlocs\u001b[0m\u001b[0;34m)\u001b[0m \u001b[0;34m!=\u001b[0m \u001b[0mlen\u001b[0m\u001b[0;34m(\u001b[0m\u001b[0mlabels\u001b[0m\u001b[0;34m)\u001b[0m \u001b[0;32mand\u001b[0m \u001b[0mlen\u001b[0m\u001b[0;34m(\u001b[0m\u001b[0mlabels\u001b[0m\u001b[0;34m)\u001b[0m \u001b[0;34m!=\u001b[0m \u001b[0;36m0\u001b[0m\u001b[0;34m:\u001b[0m\u001b[0;34m\u001b[0m\u001b[0;34m\u001b[0m\u001b[0m\n\u001b[0;32m-> 1969\u001b[0;31m                 raise ValueError(\n\u001b[0m\u001b[1;32m   1970\u001b[0m                     \u001b[0;34m\"The number of FixedLocator locations\"\u001b[0m\u001b[0;34m\u001b[0m\u001b[0;34m\u001b[0m\u001b[0m\n\u001b[1;32m   1971\u001b[0m                     \u001b[0;34mf\" ({len(locator.locs)}), usually from a call to\"\u001b[0m\u001b[0;34m\u001b[0m\u001b[0;34m\u001b[0m\u001b[0m\n",
            "\u001b[0;31mValueError\u001b[0m: The number of FixedLocator locations (6), usually from a call to set_ticks, does not match the number of labels (5)."
          ]
        },
        {
          "output_type": "display_data",
          "data": {
            "text/plain": [
              "<Figure size 800x500 with 1 Axes>"
            ],
            "image/png": "[encoded data removed]"
          },
          "metadata": {}
        }
      ]
    },
    {
      "cell_type": "markdown",
      "source": [
        "**Task 10**"
      ],
      "metadata": {
        "id": "qxPq3lh2aUeU"
      }
    },
    {
      "cell_type": "markdown",
      "source": [
        "Create a summary report."
      ],
      "metadata": {
        "id": "u4EbmU9RaXzC"
      }
    },
    {
      "cell_type": "code",
      "source": [
        "#Concatenate the df_run DataFrame with df_walk and df_cycle using append(), thensort based on the index in descending order. \n",
        "#Assign the result to df_run_walk_cycle.\n",
        "\n",
        "df_walk=df_activities[df_activities['Type'] == 'Walking'].copy()\n",
        "print(df_walk)\n",
        "\n",
        "\n",
        "df_run_walk_cycle = df_run.append([df_walk, df_cycle]).sort_index(ascending=False)\n",
        "\n",
        "#Group df_run_walk_cycle by activity type, then select the columns in dist_climb_cols.Sum the result using sum(). \n",
        "#Assign the result to df_totals\n",
        "\n",
        "dist_climb_cols, speed_col = ['Distance (km)', 'Climb (m)'], ['Average Speed (km/h)']\n",
        "\n",
        "\n",
        "df_totals = df_run_walk_cycle.groupby('Type')[dist_climb_cols].sum()\n",
        "\n",
        "print('Totals for different training types:')\n",
        "display(df_totals)\n",
        "\n",
        "# Use the stack() method on df_summary to show a compact reshaped form of the full summary report.\n",
        "df_summary = df_run_walk_cycle.groupby('Type')[dist_climb_cols + speed_col].describe()\n",
        "\n",
        "# Combine totals with summary\n",
        "for i in dist_climb_cols:\n",
        "    df_summary[i, 'total'] = df_totals[i]\n",
        "\n",
        "print('Summary statistics for different training types:')\n",
        "df_summary.stack()\n",
        "\n",
        "\n",
        "\n"
      ],
      "metadata": {
        "colab": {
          "base_uri": "https://localhost:8080/",
          "height": 1000
        },
        "id": "y6hC1Xm1adqs",
        "outputId": "9f0c8619-eb58-416f-db77-1c10e96809ec"
      },
      "execution_count": null,
      "outputs": [
        {
          "output_type": "stream",
          "name": "stdout",
          "text": [
            "                        Type  Distance (km) Duration Average Pace  \\\n",
            "Date                                                                \n",
            "2013-08-15 18:49:50  Walking           2.48  2:23:46        57:56   \n",
            "2013-08-08 07:56:08  Walking           1.51    15:24        10:11   \n",
            "2013-06-03 07:04:59  Walking           1.33    11:59         9:03   \n",
            "2013-04-29 18:48:30  Walking           1.37    22:39        16:30   \n",
            "2013-04-29 13:10:14  Walking           3.83    38:30        10:04   \n",
            "2013-04-28 10:56:47  Walking           1.32    13:48        10:30   \n",
            "2013-04-18 21:48:44  Walking           1.50    24:41        16:28   \n",
            "2013-03-11 18:27:56  Walking           1.86    16:39         8:56   \n",
            "2012-11-04 18:59:06  Walking           1.22    12:05         9:54   \n",
            "2012-09-03 15:25:22  Walking           2.49    26:58        10:51   \n",
            "2012-09-03 13:20:56  Walking           4.29    39:25         9:12   \n",
            "2012-08-30 07:10:21  Walking           1.43    15:12        10:40   \n",
            "2012-08-29 18:19:26  Walking           1.34    13:14         9:55   \n",
            "2012-08-29 08:21:43  Walking           1.48    14:48        10:02   \n",
            "2012-08-28 19:43:52  Walking           1.46    13:24         9:12   \n",
            "2012-08-28 07:06:57  Walking           1.57    13:39         8:41   \n",
            "2012-08-24 12:59:42  Walking           1.48    17:56        12:09   \n",
            "2012-08-24 10:12:16  Walking           1.49    13:43         9:14   \n",
            "\n",
            "                     Average Speed (km/h)  Climb (m)  Average Heart Rate (bpm)  \n",
            "Date                                                                            \n",
            "2013-08-15 18:49:50                  1.04         67                       NaN  \n",
            "2013-08-08 07:56:08                  5.89          6                       NaN  \n",
            "2013-06-03 07:04:59                  6.63          5                       NaN  \n",
            "2013-04-29 18:48:30                  3.64         10                       NaN  \n",
            "2013-04-29 13:10:14                  5.96         25                       NaN  \n",
            "2013-04-28 10:56:47                  5.72          5                       NaN  \n",
            "2013-04-18 21:48:44                  3.64          9                       NaN  \n",
            "2013-03-11 18:27:56                  6.72         16                       NaN  \n",
            "2012-11-04 18:59:06                  6.07         10                       NaN  \n",
            "2012-09-03 15:25:22                  5.53         14                       NaN  \n",
            "2012-09-03 13:20:56                  6.53        112                       NaN  \n",
            "2012-08-30 07:10:21                  5.63          7                       NaN  \n",
            "2012-08-29 18:19:26                  6.05         16                       NaN  \n",
            "2012-08-29 08:21:43                  5.98          6                       NaN  \n",
            "2012-08-28 19:43:52                  6.52         13                       NaN  \n",
            "2012-08-28 07:06:57                  6.91          7                       NaN  \n",
            "2012-08-24 12:59:42                  4.94         12                       NaN  \n",
            "2012-08-24 10:12:16                  6.49          9                       NaN  \n",
            "Totals for different training types:\n"
          ]
        },
        {
          "output_type": "stream",
          "name": "stderr",
          "text": [
            "<ipython-input-41-e0ef2ab09a9c>:8: FutureWarning: The frame.append method is deprecated and will be removed from pandas in a future version. Use pandas.concat instead.\n",
            "  df_run_walk_cycle = df_run.append([df_walk, df_cycle]).sort_index(ascending=False)\n"
          ]
        },
        {
          "output_type": "display_data",
          "data": {
            "text/plain": [
              "         Distance (km)  Climb (m)\n",
              "Type                             \n",
              "Cycling         680.58       6976\n",
              "Running        5224.50      57278\n",
              "Walking          33.45        349"
            ],
            "text/html": [
              "\n",
              "  <div id=\"df-e59ed5f7-318b-4f33-a0f7-7308974a0bbb\">\n",
              "    <div class=\"colab-df-container\">\n",
              "      <div>\n",
              "<style scoped>\n",
              "    .dataframe tbody tr th:only-of-type {\n",
              "        vertical-align: middle;\n",
              "    }\n",
              "\n",
              "    .dataframe tbody tr th {\n",
              "        vertical-align: top;\n",
              "    }\n",
              "\n",
              "    .dataframe thead th {\n",
              "        text-align: right;\n",
              "    }\n",
              "</style>\n",
              "<table border=\"1\" class=\"dataframe\">\n",
              "  <thead>\n",
              "    <tr style=\"text-align: right;\">\n",
              "      <th></th>\n",
              "      <th>Distance (km)</th>\n",
              "      <th>Climb (m)</th>\n",
              "    </tr>\n",
              "    <tr>\n",
              "      <th>Type</th>\n",
              "      <th></th>\n",
              "      <th></th>\n",
              "    </tr>\n",
              "  </thead>\n",
              "  <tbody>\n",
              "    <tr>\n",
              "      <th>Cycling</th>\n",
              "      <td>680.58</td>\n",
              "      <td>6976</td>\n",
              "    </tr>\n",
              "    <tr>\n",
              "      <th>Running</th>\n",
              "      <td>5224.50</td>\n",
              "      <td>57278</td>\n",
              "    </tr>\n",
              "    <tr>\n",
              "      <th>Walking</th>\n",
              "      <td>33.45</td>\n",
              "      <td>349</td>\n",
              "    </tr>\n",
              "  </tbody>\n",
              "</table>\n",
              "</div>\n",
              "      <button class=\"colab-df-convert\" onclick=\"convertToInteractive('df-e59ed5f7-318b-4f33-a0f7-7308974a0bbb')\"\n",
              "              title=\"Convert this dataframe to an interactive table.\"\n",
              "              style=\"display:none;\">\n",
              "        \n",
              "  <svg xmlns=\"http://www.w3.org/2000/svg\" height=\"24px\"viewBox=\"0 0 24 24\"\n",
              "       width=\"24px\">\n",
              "    <path d=\"M0 0h24v24H0V0z\" fill=\"none\"/>\n",
              "    <path d=\"M18.56 5.44l.94 2.06.94-2.06 2.06-.94-2.06-.94-.94-2.06-.94 2.06-2.06.94zm-11 1L8.5 8.5l.94-2.06 2.06-.94-2.06-.94L8.5 2.5l-.94 2.06-2.06.94zm10 10l.94 2.06.94-2.06 2.06-.94-2.06-.94-.94-2.06-.94 2.06-2.06.94z\"/><path d=\"M17.41 7.96l-1.37-1.37c-.4-.4-.92-.59-1.43-.59-.52 0-1.04.2-1.43.59L10.3 9.45l-7.72 7.72c-.78.78-.78 2.05 0 2.83L4 21.41c.39.39.9.59 1.41.59.51 0 1.02-.2 1.41-.59l7.78-7.78 2.81-2.81c.8-.78.8-2.07 0-2.86zM5.41 20L4 18.59l7.72-7.72 1.47 1.35L5.41 20z\"/>\n",
              "  </svg>\n",
              "      </button>\n",
              "      \n",
              "  <style>\n",
              "    .colab-df-container {\n",
              "      display:flex;\n",
              "      flex-wrap:wrap;\n",
              "      gap: 12px;\n",
              "    }\n",
              "\n",
              "    .colab-df-convert {\n",
              "      background-color: #E8F0FE;\n",
              "      border: none;\n",
              "      border-radius: 50%;\n",
              "      cursor: pointer;\n",
              "      display: none;\n",
              "      fill: #1967D2;\n",
              "      height: 32px;\n",
              "      padding: 0 0 0 0;\n",
              "      width: 32px;\n",
              "    }\n",
              "\n",
              "    .colab-df-convert:hover {\n",
              "      background-color: #E2EBFA;\n",
              "      box-shadow: 0px 1px 2px rgba(60, 64, 67, 0.3), 0px 1px 3px 1px rgba(60, 64, 67, 0.15);\n",
              "      fill: #174EA6;\n",
              "    }\n",
              "\n",
              "    [theme=dark] .colab-df-convert {\n",
              "      background-color: #3B4455;\n",
              "      fill: #D2E3FC;\n",
              "    }\n",
              "\n",
              "    [theme=dark] .colab-df-convert:hover {\n",
              "      background-color: #434B5C;\n",
              "      box-shadow: 0px 1px 3px 1px rgba(0, 0, 0, 0.15);\n",
              "      filter: drop-shadow(0px 1px 2px rgba(0, 0, 0, 0.3));\n",
              "      fill: #FFFFFF;\n",
              "    }\n",
              "  </style>\n",
              "\n",
              "      <script>\n",
              "        const buttonEl =\n",
              "          document.querySelector('#df-e59ed5f7-318b-4f33-a0f7-7308974a0bbb button.colab-df-convert');\n",
              "        buttonEl.style.display =\n",
              "          google.colab.kernel.accessAllowed ? 'block' : 'none';\n",
              "\n",
              "        async function convertToInteractive(key) {\n",
              "          const element = document.querySelector('#df-e59ed5f7-318b-4f33-a0f7-7308974a0bbb');\n",
              "          const dataTable =\n",
              "            await google.colab.kernel.invokeFunction('convertToInteractive',\n",
              "                                                     [key], {});\n",
              "          if (!dataTable) return;\n",
              "\n",
              "          const docLinkHtml = 'Like what you see? Visit the ' +\n",
              "            '<a target=\"_blank\" href=https://colab.research.google.com/notebooks/data_table.ipynb>data table notebook</a>'\n",
              "            + ' to learn more about interactive tables.';\n",
              "          element.innerHTML = '';\n",
              "          dataTable['output_type'] = 'display_data';\n",
              "          await google.colab.output.renderOutput(dataTable, element);\n",
              "          const docLink = document.createElement('div');\n",
              "          docLink.innerHTML = docLinkHtml;\n",
              "          element.appendChild(docLink);\n",
              "        }\n",
              "      </script>\n",
              "    </div>\n",
              "  </div>\n",
              "  "
            ]
          },
          "metadata": {}
        },
        {
          "output_type": "stream",
          "name": "stdout",
          "text": [
            "Summary statistics for different training types:\n"
          ]
        },
        {
          "output_type": "execute_result",
          "data": {
            "text/plain": [
              "               Average Speed (km/h)     Climb (m)  Distance (km)\n",
              "Type                                                            \n",
              "Cycling 25%               16.980000    139.000000      15.530000\n",
              "        50%               19.500000    199.000000      20.300000\n",
              "        75%               21.490000    318.000000      29.400000\n",
              "        count             29.000000     29.000000      29.000000\n",
              "        max               24.330000    553.000000      49.180000\n",
              "        mean              19.125172    240.551724      23.468276\n",
              "        min               11.380000     58.000000      11.410000\n",
              "        std                3.257100    128.960289       9.451040\n",
              "        total                   NaN   6976.000000     680.580000\n",
              "Running 25%               10.495000     54.000000       7.415000\n",
              "        50%               10.980000     91.000000      10.810000\n",
              "        75%               11.520000    171.000000      13.190000\n",
              "        count            459.000000    459.000000     459.000000\n",
              "        max               20.720000    982.000000      38.320000\n",
              "        mean              11.056296    124.788671      11.382353\n",
              "        min                5.770000      0.000000       0.760000\n",
              "        std                0.953273    103.382177       4.937853\n",
              "        total                   NaN  57278.000000    5224.500000\n",
              "Walking 25%                5.555000      7.000000       1.385000\n",
              "        50%                5.970000     10.000000       1.485000\n",
              "        75%                6.512500     15.500000       1.787500\n",
              "        count             18.000000     18.000000      18.000000\n",
              "        max                6.910000    112.000000       4.290000\n",
              "        mean               5.549444     19.388889       1.858333\n",
              "        min                1.040000      5.000000       1.220000\n",
              "        std                1.459309     27.110100       0.880055\n",
              "        total                   NaN    349.000000      33.450000"
            ],
            "text/html": [
              "\n",
              "  <div id=\"df-db124baa-b25e-405e-8b6f-ebd336c3201f\">\n",
              "    <div class=\"colab-df-container\">\n",
              "      <div>\n",
              "<style scoped>\n",
              "    .dataframe tbody tr th:only-of-type {\n",
              "        vertical-align: middle;\n",
              "    }\n",
              "\n",
              "    .dataframe tbody tr th {\n",
              "        vertical-align: top;\n",
              "    }\n",
              "\n",
              "    .dataframe thead th {\n",
              "        text-align: right;\n",
              "    }\n",
              "</style>\n",
              "<table border=\"1\" class=\"dataframe\">\n",
              "  <thead>\n",
              "    <tr style=\"text-align: right;\">\n",
              "      <th></th>\n",
              "      <th></th>\n",
              "      <th>Average Speed (km/h)</th>\n",
              "      <th>Climb (m)</th>\n",
              "      <th>Distance (km)</th>\n",
              "    </tr>\n",
              "    <tr>\n",
              "      <th>Type</th>\n",
              "      <th></th>\n",
              "      <th></th>\n",
              "      <th></th>\n",
              "      <th></th>\n",
              "    </tr>\n",
              "  </thead>\n",
              "  <tbody>\n",
              "    <tr>\n",
              "      <th rowspan=\"9\" valign=\"top\">Cycling</th>\n",
              "      <th>25%</th>\n",
              "      <td>16.980000</td>\n",
              "      <td>139.000000</td>\n",
              "      <td>15.530000</td>\n",
              "    </tr>\n",
              "    <tr>\n",
              "      <th>50%</th>\n",
              "      <td>19.500000</td>\n",
              "      <td>199.000000</td>\n",
              "      <td>20.300000</td>\n",
              "    </tr>\n",
              "    <tr>\n",
              "      <th>75%</th>\n",
              "      <td>21.490000</td>\n",
              "      <td>318.000000</td>\n",
              "      <td>29.400000</td>\n",
              "    </tr>\n",
              "    <tr>\n",
              "      <th>count</th>\n",
              "      <td>29.000000</td>\n",
              "      <td>29.000000</td>\n",
              "      <td>29.000000</td>\n",
              "    </tr>\n",
              "    <tr>\n",
              "      <th>max</th>\n",
              "      <td>24.330000</td>\n",
              "      <td>553.000000</td>\n",
              "      <td>49.180000</td>\n",
              "    </tr>\n",
              "    <tr>\n",
              "      <th>mean</th>\n",
              "      <td>19.125172</td>\n",
              "      <td>240.551724</td>\n",
              "      <td>23.468276</td>\n",
              "    </tr>\n",
              "    <tr>\n",
              "      <th>min</th>\n",
              "      <td>11.380000</td>\n",
              "      <td>58.000000</td>\n",
              "      <td>11.410000</td>\n",
              "    </tr>\n",
              "    <tr>\n",
              "      <th>std</th>\n",
              "      <td>3.257100</td>\n",
              "      <td>128.960289</td>\n",
              "      <td>9.451040</td>\n",
              "    </tr>\n",
              "    <tr>\n",
              "      <th>total</th>\n",
              "      <td>NaN</td>\n",
              "      <td>6976.000000</td>\n",
              "      <td>680.580000</td>\n",
              "    </tr>\n",
              "    <tr>\n",
              "      <th rowspan=\"9\" valign=\"top\">Running</th>\n",
              "      <th>25%</th>\n",
              "      <td>10.495000</td>\n",
              "      <td>54.000000</td>\n",
              "      <td>7.415000</td>\n",
              "    </tr>\n",
              "    <tr>\n",
              "      <th>50%</th>\n",
              "      <td>10.980000</td>\n",
              "      <td>91.000000</td>\n",
              "      <td>10.810000</td>\n",
              "    </tr>\n",
              "    <tr>\n",
              "      <th>75%</th>\n",
              "      <td>11.520000</td>\n",
              "      <td>171.000000</td>\n",
              "      <td>13.190000</td>\n",
              "    </tr>\n",
              "    <tr>\n",
              "      <th>count</th>\n",
              "      <td>459.000000</td>\n",
              "      <td>459.000000</td>\n",
              "      <td>459.000000</td>\n",
              "    </tr>\n",
              "    <tr>\n",
              "      <th>max</th>\n",
              "      <td>20.720000</td>\n",
              "      <td>982.000000</td>\n",
              "      <td>38.320000</td>\n",
              "    </tr>\n",
              "    <tr>\n",
              "      <th>mean</th>\n",
              "      <td>11.056296</td>\n",
              "      <td>124.788671</td>\n",
              "      <td>11.382353</td>\n",
              "    </tr>\n",
              "    <tr>\n",
              "      <th>min</th>\n",
              "      <td>5.770000</td>\n",
              "      <td>0.000000</td>\n",
              "      <td>0.760000</td>\n",
              "    </tr>\n",
              "    <tr>\n",
              "      <th>std</th>\n",
              "      <td>0.953273</td>\n",
              "      <td>103.382177</td>\n",
              "      <td>4.937853</td>\n",
              "    </tr>\n",
              "    <tr>\n",
              "      <th>total</th>\n",
              "      <td>NaN</td>\n",
              "      <td>57278.000000</td>\n",
              "      <td>5224.500000</td>\n",
              "    </tr>\n",
              "    <tr>\n",
              "      <th rowspan=\"9\" valign=\"top\">Walking</th>\n",
              "      <th>25%</th>\n",
              "      <td>5.555000</td>\n",
              "      <td>7.000000</td>\n",
              "      <td>1.385000</td>\n",
              "    </tr>\n",
              "    <tr>\n",
              "      <th>50%</th>\n",
              "      <td>5.970000</td>\n",
              "      <td>10.000000</td>\n",
              "      <td>1.485000</td>\n",
              "    </tr>\n",
              "    <tr>\n",
              "      <th>75%</th>\n",
              "      <td>6.512500</td>\n",
              "      <td>15.500000</td>\n",
              "      <td>1.787500</td>\n",
              "    </tr>\n",
              "    <tr>\n",
              "      <th>count</th>\n",
              "      <td>18.000000</td>\n",
              "      <td>18.000000</td>\n",
              "      <td>18.000000</td>\n",
              "    </tr>\n",
              "    <tr>\n",
              "      <th>max</th>\n",
              "      <td>6.910000</td>\n",
              "      <td>112.000000</td>\n",
              "      <td>4.290000</td>\n",
              "    </tr>\n",
              "    <tr>\n",
              "      <th>mean</th>\n",
              "      <td>5.549444</td>\n",
              "      <td>19.388889</td>\n",
              "      <td>1.858333</td>\n",
              "    </tr>\n",
              "    <tr>\n",
              "      <th>min</th>\n",
              "      <td>1.040000</td>\n",
              "      <td>5.000000</td>\n",
              "      <td>1.220000</td>\n",
              "    </tr>\n",
              "    <tr>\n",
              "      <th>std</th>\n",
              "      <td>1.459309</td>\n",
              "      <td>27.110100</td>\n",
              "      <td>0.880055</td>\n",
              "    </tr>\n",
              "    <tr>\n",
              "      <th>total</th>\n",
              "      <td>NaN</td>\n",
              "      <td>349.000000</td>\n",
              "      <td>33.450000</td>\n",
              "    </tr>\n",
              "  </tbody>\n",
              "</table>\n",
              "</div>\n",
              "      <button class=\"colab-df-convert\" onclick=\"convertToInteractive('df-db124baa-b25e-405e-8b6f-ebd336c3201f')\"\n",
              "              title=\"Convert this dataframe to an interactive table.\"\n",
              "              style=\"display:none;\">\n",
              "        \n",
              "  <svg xmlns=\"http://www.w3.org/2000/svg\" height=\"24px\"viewBox=\"0 0 24 24\"\n",
              "       width=\"24px\">\n",
              "    <path d=\"M0 0h24v24H0V0z\" fill=\"none\"/>\n",
              "    <path d=\"M18.56 5.44l.94 2.06.94-2.06 2.06-.94-2.06-.94-.94-2.06-.94 2.06-2.06.94zm-11 1L8.5 8.5l.94-2.06 2.06-.94-2.06-.94L8.5 2.5l-.94 2.06-2.06.94zm10 10l.94 2.06.94-2.06 2.06-.94-2.06-.94-.94-2.06-.94 2.06-2.06.94z\"/><path d=\"M17.41 7.96l-1.37-1.37c-.4-.4-.92-.59-1.43-.59-.52 0-1.04.2-1.43.59L10.3 9.45l-7.72 7.72c-.78.78-.78 2.05 0 2.83L4 21.41c.39.39.9.59 1.41.59.51 0 1.02-.2 1.41-.59l7.78-7.78 2.81-2.81c.8-.78.8-2.07 0-2.86zM5.41 20L4 18.59l7.72-7.72 1.47 1.35L5.41 20z\"/>\n",
              "  </svg>\n",
              "      </button>\n",
              "      \n",
              "  <style>\n",
              "    .colab-df-container {\n",
              "      display:flex;\n",
              "      flex-wrap:wrap;\n",
              "      gap: 12px;\n",
              "    }\n",
              "\n",
              "    .colab-df-convert {\n",
              "      background-color: #E8F0FE;\n",
              "      border: none;\n",
              "      border-radius: 50%;\n",
              "      cursor: pointer;\n",
              "      display: none;\n",
              "      fill: #1967D2;\n",
              "      height: 32px;\n",
              "      padding: 0 0 0 0;\n",
              "      width: 32px;\n",
              "    }\n",
              "\n",
              "    .colab-df-convert:hover {\n",
              "      background-color: #E2EBFA;\n",
              "      box-shadow: 0px 1px 2px rgba(60, 64, 67, 0.3), 0px 1px 3px 1px rgba(60, 64, 67, 0.15);\n",
              "      fill: #174EA6;\n",
              "    }\n",
              "\n",
              "    [theme=dark] .colab-df-convert {\n",
              "      background-color: #3B4455;\n",
              "      fill: #D2E3FC;\n",
              "    }\n",
              "\n",
              "    [theme=dark] .colab-df-convert:hover {\n",
              "      background-color: #434B5C;\n",
              "      box-shadow: 0px 1px 3px 1px rgba(0, 0, 0, 0.15);\n",
              "      filter: drop-shadow(0px 1px 2px rgba(0, 0, 0, 0.3));\n",
              "      fill: #FFFFFF;\n",
              "    }\n",
              "  </style>\n",
              "\n",
              "      <script>\n",
              "        const buttonEl =\n",
              "          document.querySelector('#df-db124baa-b25e-405e-8b6f-ebd336c3201f button.colab-df-convert');\n",
              "        buttonEl.style.display =\n",
              "          google.colab.kernel.accessAllowed ? 'block' : 'none';\n",
              "\n",
              "        async function convertToInteractive(key) {\n",
              "          const element = document.querySelector('#df-db124baa-b25e-405e-8b6f-ebd336c3201f');\n",
              "          const dataTable =\n",
              "            await google.colab.kernel.invokeFunction('convertToInteractive',\n",
              "                                                     [key], {});\n",
              "          if (!dataTable) return;\n",
              "\n",
              "          const docLinkHtml = 'Like what you see? Visit the ' +\n",
              "            '<a target=\"_blank\" href=https://colab.research.google.com/notebooks/data_table.ipynb>data table notebook</a>'\n",
              "            + ' to learn more about interactive tables.';\n",
              "          element.innerHTML = '';\n",
              "          dataTable['output_type'] = 'display_data';\n",
              "          await google.colab.output.renderOutput(dataTable, element);\n",
              "          const docLink = document.createElement('div');\n",
              "          docLink.innerHTML = docLinkHtml;\n",
              "          element.appendChild(docLink);\n",
              "        }\n",
              "      </script>\n",
              "    </div>\n",
              "  </div>\n",
              "  "
            ]
          },
          "metadata": {},
          "execution_count": 41
        }
      ]
    },
    {
      "cell_type": "markdown",
      "source": [
        "**Task 11**"
      ],
      "metadata": {
        "id": "8dwSPI7FdrT5"
      }
    },
    {
      "cell_type": "markdown",
      "source": [
        "Use FUN FACTS data to answer some fun questions"
      ],
      "metadata": {
        "id": "n5mY5ogHd0ST"
      }
    },
    {
      "cell_type": "code",
      "source": [
        "#Calculate the instructor's average shoes per lifetime. \n",
        "#Use number of 'Total number of km run'from FUN FACTS and divide by the number of pairs of shoes gone through.\n",
        "\n",
        "\n",
        "ava_distance=df_activities[\"Distance (km)\"].mean()\n",
        "print(\"The avarage distance:\",ava_distance,\"KM\")\n",
        "\n",
        "longest_distance=df_activities[\"Distance (km)\"].max()\n",
        "print(\"The longest distance:\",longest_distance,\"km\")\n",
        "\n",
        "highest_climb=df_activities[\"Climb (m)\"].max()\n",
        "print(\"Highest climbing:\",highest_climb,\"M\")\n",
        "\n",
        "total_climb=df_activities[\"Climb (m)\"].sum()\n",
        "print(\"The total Climbing:\",total_climb,\"M\")\n",
        "\n",
        "\n",
        "TOTAL_number_of_km_run=df_activities[df_activities['Type']=='Running']['Distance (km)'].sum()\n",
        "print(\"Total number of km run:\",TOTAL_number_of_km_run,\"KM\")\n",
        "\n",
        "print(\"Total run :   459\")     #Previously we get the value when we check the value count\n",
        "\n",
        "print(\"Number of running shoes gone through: 7 pairs\")\n",
        "fun_facts=(TOTAL_number_of_km_run/7)\n",
        "print(fun_facts)"
      ],
      "metadata": {
        "colab": {
          "base_uri": "https://localhost:8080/"
        },
        "id": "fybsoC0Pd7as",
        "outputId": "603ec06f-6cbf-446a-b03e-0fb666131ccf"
      },
      "execution_count": null,
      "outputs": [
        {
          "output_type": "stream",
          "name": "stdout",
          "text": [
            "The avarage distance: 11.757834645669291 KM\n",
            "The longest distance: 49.18 km\n",
            "Highest climbing: 982 M\n",
            "The total Climbing: 65024 M\n",
            "Total number of km run: 5224.5 KM\n",
            "Total run :   459\n",
            "Number of running shoes gone through: 7 pairs\n",
            "746.3571428571429\n"
          ]
        }
      ]
    }
  ],
  "metadata": {
    "colab": {
      "provenance": []
    },
    "kernelspec": {
      "display_name": "Python 3",
      "name": "python3"
    },
    "language_info": {
      "name": "python"
    }
  },
  "nbformat": 4,
  "nbformat_minor": 0
}